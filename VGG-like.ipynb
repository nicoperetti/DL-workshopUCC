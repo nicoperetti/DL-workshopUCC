{
 "cells": [
  {
   "cell_type": "code",
   "execution_count": 1,
   "metadata": {},
   "outputs": [
    {
     "name": "stderr",
     "output_type": "stream",
     "text": [
      "Using TensorFlow backend.\n"
     ]
    }
   ],
   "source": [
    "import numpy as np\n",
    "import matplotlib.pyplot as plt\n",
    "\n",
    "from keras.datasets import cifar10\n",
    "from sklearn.model_selection import train_test_split\n",
    "from keras.utils.np_utils import to_categorical # convert to one-hot-encoding\n",
    "from keras.models import Sequential, Model\n",
    "from keras.layers import Dense, Dropout, Flatten, Conv2D, MaxPool2D, GlobalAveragePooling2D, Input\n",
    "from keras.layers import Conv2D, MaxPooling2D\n",
    "from keras.optimizers import RMSprop, SGD\n",
    "from keras.callbacks import ReduceLROnPlateau, ModelCheckpoint\n",
    "from keras.preprocessing.image import ImageDataGenerator\n",
    "from sklearn.metrics import confusion_matrix, accuracy_score, f1_score, precision_score, recall_score"
   ]
  },
  {
   "cell_type": "markdown",
   "metadata": {},
   "source": [
    "# Data Preprocessing"
   ]
  },
  {
   "cell_type": "code",
   "execution_count": 2,
   "metadata": {},
   "outputs": [],
   "source": [
    "# Set the random seed\n",
    "random_seed = 135791113\n",
    "\n",
    "def load_data():\n",
    "    (x_train, y_train), (x_test, y_test) = cifar10.load_data()\n",
    "    X_train = x_train.astype('float32')\n",
    "    X_test = x_test.astype('float32')\n",
    "    return X_train, y_train, X_test, y_test\n",
    "\n",
    "def labelencoding(y_train, y_val, y_test, nb_classes):\n",
    "    Y_val = to_categorical(y_val, num_classes = nb_classes)\n",
    "    Y_test = to_categorical(y_test, num_classes = nb_classes)\n",
    "    Y_train = to_categorical(y_train.reshape(-1, 1), num_classes = nb_classes)\n",
    "    return Y_train, Y_val, Y_test\n",
    "\n",
    "def split_dataset(X_train, Y_train):\n",
    "\n",
    "    X_train, X_val, Y_train, Y_val = train_test_split(X_train, Y_train, test_size = 0.2, random_state=random_seed)\n",
    "    \n",
    "    return X_train, X_val, Y_train, Y_val"
   ]
  },
  {
   "cell_type": "code",
   "execution_count": 3,
   "metadata": {},
   "outputs": [],
   "source": [
    "CLASSES = 10\n",
    "X_train, Y_train, X_test, Y_test = load_data()\n",
    "X_train, X_val, Y_train, Y_val = split_dataset(X_train, Y_train)\n",
    "Y_train, Y_val, Y_test = labelencoding(Y_train, Y_val, Y_test, CLASSES)"
   ]
  },
  {
   "cell_type": "markdown",
   "metadata": {},
   "source": [
    "### Normalization"
   ]
  },
  {
   "cell_type": "code",
   "execution_count": 4,
   "metadata": {},
   "outputs": [],
   "source": [
    "X_train = X_train / 255.\n",
    "\n",
    "X_val = X_val / 255.\n",
    "\n",
    "X_test = X_test / 255."
   ]
  },
  {
   "cell_type": "markdown",
   "metadata": {},
   "source": [
    "# Model: VGG-like convnet"
   ]
  },
  {
   "cell_type": "code",
   "execution_count": 5,
   "metadata": {},
   "outputs": [],
   "source": [
    "model = Sequential()\n",
    "model.add(Conv2D(32, (3, 3), activation='relu', input_shape=(32, 32, 3)))\n",
    "model.add(Conv2D(32, (3, 3), activation='relu'))\n",
    "model.add(MaxPooling2D(pool_size=(2, 2)))\n",
    "model.add(Dropout(0.25))\n",
    "\n",
    "model.add(Conv2D(64, (3, 3), activation='relu'))\n",
    "model.add(Conv2D(64, (3, 3), activation='relu'))\n",
    "model.add(MaxPooling2D(pool_size=(2, 2)))\n",
    "model.add(Dropout(0.25))\n",
    "\n",
    "model.add(Flatten())\n",
    "model.add(Dense(256, activation='relu', name=\"dense_1\"))\n",
    "model.add(Dropout(0.5))\n",
    "model.add(Dense(10, activation='softmax', name=\"dense_2\"))"
   ]
  },
  {
   "cell_type": "markdown",
   "metadata": {},
   "source": [
    "### Model Compilation"
   ]
  },
  {
   "cell_type": "code",
   "execution_count": 6,
   "metadata": {},
   "outputs": [],
   "source": [
    "rmsprop = RMSprop(lr=0.001, rho=0.9, epsilon=1e-08, decay=0.0)\n",
    "\n",
    "model.compile(loss='categorical_crossentropy',\n",
    "              optimizer=rmsprop,\n",
    "              metrics=['accuracy'])"
   ]
  },
  {
   "cell_type": "markdown",
   "metadata": {},
   "source": [
    "### Training"
   ]
  },
  {
   "cell_type": "code",
   "execution_count": 7,
   "metadata": {},
   "outputs": [],
   "source": [
    "checkPoint = ModelCheckpoint(\"weights/cifar10/weights.{epoch:02d}-{val_acc:.2f}.hdf5\",\n",
    "                             monitor='val_acc',\n",
    "                             save_weights_only=True)"
   ]
  },
  {
   "cell_type": "code",
   "execution_count": 8,
   "metadata": {
    "scrolled": true
   },
   "outputs": [
    {
     "name": "stdout",
     "output_type": "stream",
     "text": [
      "Train on 40000 samples, validate on 10000 samples\n",
      "Epoch 1/20\n",
      "40000/40000 [==============================] - 54s 1ms/step - loss: 1.7510 - acc: 0.3625 - val_loss: 1.3351 - val_acc: 0.5167\n",
      "Epoch 2/20\n",
      "40000/40000 [==============================] - 53s 1ms/step - loss: 1.3542 - acc: 0.5157 - val_loss: 1.1585 - val_acc: 0.5801\n",
      "Epoch 3/20\n",
      "40000/40000 [==============================] - 51s 1ms/step - loss: 1.1717 - acc: 0.5895 - val_loss: 1.0074 - val_acc: 0.6396\n",
      "Epoch 4/20\n",
      "40000/40000 [==============================] - 51s 1ms/step - loss: 1.0603 - acc: 0.6303 - val_loss: 0.9165 - val_acc: 0.6738\n",
      "Epoch 5/20\n",
      "40000/40000 [==============================] - 49s 1ms/step - loss: 0.9766 - acc: 0.6590 - val_loss: 0.8904 - val_acc: 0.6833\n",
      "Epoch 6/20\n",
      "40000/40000 [==============================] - 49s 1ms/step - loss: 0.9188 - acc: 0.6822 - val_loss: 0.8581 - val_acc: 0.7038\n",
      "Epoch 7/20\n",
      "40000/40000 [==============================] - 50s 1ms/step - loss: 0.8786 - acc: 0.6975 - val_loss: 0.7907 - val_acc: 0.7237\n",
      "Epoch 8/20\n",
      "40000/40000 [==============================] - 50s 1ms/step - loss: 0.8547 - acc: 0.7049 - val_loss: 0.8208 - val_acc: 0.7143\n",
      "Epoch 9/20\n",
      "40000/40000 [==============================] - 52s 1ms/step - loss: 0.8361 - acc: 0.7128 - val_loss: 0.8315 - val_acc: 0.7158\n",
      "Epoch 10/20\n",
      "40000/40000 [==============================] - 49s 1ms/step - loss: 0.8212 - acc: 0.7196 - val_loss: 0.7763 - val_acc: 0.7313\n",
      "Epoch 11/20\n",
      "40000/40000 [==============================] - 50s 1ms/step - loss: 0.8197 - acc: 0.7234 - val_loss: 0.7527 - val_acc: 0.7436\n",
      "Epoch 12/20\n",
      "40000/40000 [==============================] - 50s 1ms/step - loss: 0.8120 - acc: 0.7271 - val_loss: 0.7553 - val_acc: 0.7438\n",
      "Epoch 13/20\n",
      "40000/40000 [==============================] - 50s 1ms/step - loss: 0.8158 - acc: 0.7290 - val_loss: 0.8198 - val_acc: 0.7242\n",
      "Epoch 14/20\n",
      "40000/40000 [==============================] - 53s 1ms/step - loss: 0.8190 - acc: 0.7285 - val_loss: 0.8246 - val_acc: 0.7262\n",
      "Epoch 15/20\n",
      "40000/40000 [==============================] - 50s 1ms/step - loss: 0.8246 - acc: 0.7260 - val_loss: 0.8460 - val_acc: 0.7269\n",
      "Epoch 16/20\n",
      "40000/40000 [==============================] - 52s 1ms/step - loss: 0.8234 - acc: 0.7315 - val_loss: 0.8381 - val_acc: 0.7184\n",
      "Epoch 17/20\n",
      "40000/40000 [==============================] - 52s 1ms/step - loss: 0.8343 - acc: 0.7288 - val_loss: 0.8755 - val_acc: 0.7343\n",
      "Epoch 18/20\n",
      "40000/40000 [==============================] - 49s 1ms/step - loss: 0.8351 - acc: 0.7243 - val_loss: 0.7950 - val_acc: 0.7442\n",
      "Epoch 19/20\n",
      "40000/40000 [==============================] - 53s 1ms/step - loss: 0.8538 - acc: 0.7234 - val_loss: 0.8586 - val_acc: 0.7157\n",
      "Epoch 20/20\n",
      "40000/40000 [==============================] - 52s 1ms/step - loss: 0.8552 - acc: 0.7226 - val_loss: 0.8207 - val_acc: 0.7323\n"
     ]
    }
   ],
   "source": [
    "BATCH_SIZE = 64\n",
    "EPOCHS = 20\n",
    "history = model.fit(X_train, Y_train, \n",
    "                    epochs = EPOCHS,\n",
    "                    batch_size = BATCH_SIZE,\n",
    "                    validation_data = (X_val, Y_val),\n",
    "                    callbacks=[checkPoint])"
   ]
  },
  {
   "cell_type": "markdown",
   "metadata": {},
   "source": [
    "## Learning Curves"
   ]
  },
  {
   "cell_type": "code",
   "execution_count": 9,
   "metadata": {},
   "outputs": [
    {
     "data": {
      "image/png": "[encoded data removed]",
      "text/plain": [
       "<Figure size 432x288 with 2 Axes>"
      ]
     },
     "metadata": {},
     "output_type": "display_data"
    }
   ],
   "source": [
    "fig, ax = plt.subplots(2,1)\n",
    "ax[0].plot(history.history['loss'], color='b', label=\"Training loss\")\n",
    "ax[0].plot(history.history['val_loss'], color='r', label=\"validation loss\",axes =ax[0])\n",
    "legend = ax[0].legend(loc='best', shadow=True)\n",
    "\n",
    "ax[1].plot(history.history['acc'], color='b', label=\"Training accuracy\")\n",
    "ax[1].plot(history.history['val_acc'], color='r',label=\"Validation accuracy\")\n",
    "legend = ax[1].legend(loc='best', shadow=True)\n",
    "plt.show()"
   ]
  },
  {
   "cell_type": "markdown",
   "metadata": {},
   "source": [
    "## Predict"
   ]
  },
  {
   "cell_type": "code",
   "execution_count": 10,
   "metadata": {},
   "outputs": [],
   "source": [
    "predictions = model.predict(X_test)\n",
    "predictions = np.argmax(predictions, axis=1)"
   ]
  },
  {
   "cell_type": "markdown",
   "metadata": {},
   "source": [
    "## Metrics"
   ]
  },
  {
   "cell_type": "code",
   "execution_count": 11,
   "metadata": {
    "scrolled": true
   },
   "outputs": [
    {
     "name": "stdout",
     "output_type": "stream",
     "text": [
      "Accuracy: 0.736\n"
     ]
    }
   ],
   "source": [
    "Y_true = np.argmax(Y_test, axis=1)\n",
    "acc = accuracy_score(Y_true, predictions)\n",
    "\n",
    "print(\"Accuracy: {}\".format(acc))"
   ]
  }
 ],
 "metadata": {
  "kernelspec": {
   "display_name": "Python 3",
   "language": "python",
   "name": "python3"
  },
  "language_info": {
   "codemirror_mode": {
    "name": "ipython",
    "version": 3
   },
   "file_extension": ".py",
   "mimetype": "text/x-python",
   "name": "python",
   "nbconvert_exporter": "python",
   "pygments_lexer": "ipython3",
   "version": "3.5.2"
  }
 },
 "nbformat": 4,
 "nbformat_minor": 2
}
