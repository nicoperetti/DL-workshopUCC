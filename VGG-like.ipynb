{
 "cells": [
  {
   "cell_type": "code",
   "execution_count": 1,
   "metadata": {},
   "outputs": [
    {
     "name": "stderr",
     "output_type": "stream",
     "text": [
      "Using TensorFlow backend.\n"
     ]
    }
   ],
   "source": [
    "import numpy as np\n",
    "import matplotlib.pyplot as plt\n",
    "\n",
    "from keras.datasets import cifar10\n",
    "from sklearn.model_selection import train_test_split\n",
    "from keras.utils.np_utils import to_categorical # convert to one-hot-encoding\n",
    "from keras.models import Sequential, Model\n",
    "from keras.layers import Dense, Dropout, Flatten, Conv2D, MaxPool2D, GlobalAveragePooling2D, Input\n",
    "from keras.layers import Conv2D, MaxPooling2D\n",
    "from keras.optimizers import RMSprop, SGD\n",
    "from keras.callbacks import ReduceLROnPlateau, ModelCheckpoint\n",
    "from keras.preprocessing.image import ImageDataGenerator\n",
    "from sklearn.metrics import confusion_matrix, accuracy_score, f1_score, precision_score, recall_score"
   ]
  },
  {
   "cell_type": "markdown",
   "metadata": {},
   "source": [
    "# Data Preprocessing"
   ]
  },
  {
   "cell_type": "code",
   "execution_count": 2,
   "metadata": {},
   "outputs": [],
   "source": [
    "# Set the random seed\n",
    "random_seed = 135791113\n",
    "\n",
    "def load_data():\n",
    "    (x_train, y_train), (x_test, y_test) = cifar10.load_data()\n",
    "    X_train = x_train.astype('float32')\n",
    "    X_test = x_test.astype('float32')\n",
    "    return X_train, y_train, X_test, y_test\n",
    "\n",
    "def labelencoding(y_train, y_val, y_test, nb_classes):\n",
    "    Y_val = to_categorical(y_val, num_classes = nb_classes)\n",
    "    Y_test = to_categorical(y_test, num_classes = nb_classes)\n",
    "    Y_train = to_categorical(y_train.reshape(-1, 1), num_classes = nb_classes)\n",
    "    return Y_train, Y_val, Y_test\n",
    "\n",
    "def split_dataset(X_train, Y_train):\n",
    "\n",
    "    X_train, X_val, Y_train, Y_val = train_test_split(X_train, Y_train, test_size = 0.2, random_state=random_seed)\n",
    "    \n",
    "    return X_train, X_val, Y_train, Y_val"
   ]
  },
  {
   "cell_type": "code",
   "execution_count": 3,
   "metadata": {},
   "outputs": [],
   "source": [
    "CLASSES = 10\n",
    "X_train, Y_train, X_test, Y_test = load_data()\n",
    "X_train, X_val, Y_train, Y_val = split_dataset(X_train, Y_train)\n",
    "Y_train, Y_val, Y_test = labelencoding(Y_train, Y_val, Y_test, CLASSES)"
   ]
  },
  {
   "cell_type": "markdown",
   "metadata": {},
   "source": [
    "### Normalization"
   ]
  },
  {
   "cell_type": "code",
   "execution_count": 4,
   "metadata": {},
   "outputs": [],
   "source": [
    "X_train = X_train / 255.\n",
    "\n",
    "X_val = X_val / 255.\n",
    "\n",
    "X_test = X_test / 255."
   ]
  },
  {
   "cell_type": "markdown",
   "metadata": {},
   "source": [
    "# Model: VGG-like convnet"
   ]
  },
  {
   "cell_type": "code",
   "execution_count": 5,
   "metadata": {},
   "outputs": [],
   "source": [
    "model = Sequential()\n",
    "model.add(Conv2D(32, (3, 3), activation='relu', input_shape=(32, 32, 3)))\n",
    "model.add(Conv2D(32, (3, 3), activation='relu'))\n",
    "model.add(MaxPooling2D(pool_size=(2, 2)))\n",
    "model.add(Dropout(0.25))\n",
    "\n",
    "model.add(Conv2D(64, (3, 3), activation='relu'))\n",
    "model.add(Conv2D(64, (3, 3), activation='relu'))\n",
    "model.add(MaxPooling2D(pool_size=(2, 2)))\n",
    "model.add(Dropout(0.25))\n",
    "\n",
    "model.add(Flatten())\n",
    "model.add(Dense(256, activation='relu'))\n",
    "model.add(Dropout(0.5))\n",
    "model.add(Dense(10, activation='softmax'))"
   ]
  },
  {
   "cell_type": "markdown",
   "metadata": {},
   "source": [
    "### Model Compilation"
   ]
  },
  {
   "cell_type": "code",
   "execution_count": 6,
   "metadata": {},
   "outputs": [],
   "source": [
    "rmsprop = RMSprop(lr=0.001, rho=0.9, epsilon=1e-08, decay=0.0)\n",
    "\n",
    "model.compile(loss='categorical_crossentropy',\n",
    "              optimizer=rmsprop,\n",
    "              metrics=['accuracy'])"
   ]
  },
  {
   "cell_type": "markdown",
   "metadata": {},
   "source": [
    "### Training"
   ]
  },
  {
   "cell_type": "code",
   "execution_count": 7,
   "metadata": {
    "scrolled": true
   },
   "outputs": [
    {
     "name": "stdout",
     "output_type": "stream",
     "text": [
      "Train on 40000 samples, validate on 10000 samples\n",
      "Epoch 1/20\n",
      "40000/40000 [==============================] - 52s 1ms/step - loss: 1.7513 - acc: 0.3605 - val_loss: 1.3625 - val_acc: 0.5224\n",
      "Epoch 2/20\n",
      "40000/40000 [==============================] - 52s 1ms/step - loss: 1.3519 - acc: 0.5177 - val_loss: 1.2010 - val_acc: 0.5738\n",
      "Epoch 3/20\n",
      "40000/40000 [==============================] - 52s 1ms/step - loss: 1.1691 - acc: 0.5919 - val_loss: 1.0753 - val_acc: 0.6297\n",
      "Epoch 4/20\n",
      "40000/40000 [==============================] - 59s 1ms/step - loss: 1.0478 - acc: 0.6367 - val_loss: 1.0578 - val_acc: 0.6329\n",
      "Epoch 5/20\n",
      "40000/40000 [==============================] - 56s 1ms/step - loss: 0.9681 - acc: 0.6657 - val_loss: 0.9787 - val_acc: 0.6586\n",
      "Epoch 6/20\n",
      "40000/40000 [==============================] - 55s 1ms/step - loss: 0.9136 - acc: 0.6833 - val_loss: 0.7938 - val_acc: 0.7225\n",
      "Epoch 7/20\n",
      "40000/40000 [==============================] - 53s 1ms/step - loss: 0.8715 - acc: 0.7003 - val_loss: 0.7879 - val_acc: 0.7259\n",
      "Epoch 8/20\n",
      "40000/40000 [==============================] - 53s 1ms/step - loss: 0.8496 - acc: 0.7089 - val_loss: 0.9309 - val_acc: 0.6899\n",
      "Epoch 9/20\n",
      "40000/40000 [==============================] - 52s 1ms/step - loss: 0.8385 - acc: 0.7177 - val_loss: 0.8118 - val_acc: 0.7229\n",
      "Epoch 10/20\n",
      "40000/40000 [==============================] - 52s 1ms/step - loss: 0.8302 - acc: 0.7191 - val_loss: 0.9235 - val_acc: 0.7127\n",
      "Epoch 11/20\n",
      "40000/40000 [==============================] - 53s 1ms/step - loss: 0.8388 - acc: 0.7206 - val_loss: 0.8105 - val_acc: 0.7301\n",
      "Epoch 12/20\n",
      "40000/40000 [==============================] - 53s 1ms/step - loss: 0.8269 - acc: 0.7252 - val_loss: 0.7948 - val_acc: 0.7298\n",
      "Epoch 13/20\n",
      "40000/40000 [==============================] - 52s 1ms/step - loss: 0.8305 - acc: 0.7235 - val_loss: 0.8563 - val_acc: 0.7327\n",
      "Epoch 14/20\n",
      "40000/40000 [==============================] - 52s 1ms/step - loss: 0.8346 - acc: 0.7253 - val_loss: 0.8193 - val_acc: 0.7327\n",
      "Epoch 15/20\n",
      "40000/40000 [==============================] - 52s 1ms/step - loss: 0.8384 - acc: 0.7262 - val_loss: 0.8117 - val_acc: 0.7393\n",
      "Epoch 16/20\n",
      "40000/40000 [==============================] - 59s 1ms/step - loss: 0.8382 - acc: 0.7264 - val_loss: 0.8222 - val_acc: 0.7419\n",
      "Epoch 17/20\n",
      "40000/40000 [==============================] - 57s 1ms/step - loss: 0.8452 - acc: 0.7228 - val_loss: 0.8122 - val_acc: 0.7339\n",
      "Epoch 18/20\n",
      "40000/40000 [==============================] - 58s 1ms/step - loss: 0.8464 - acc: 0.7256 - val_loss: 0.8459 - val_acc: 0.7151\n",
      "Epoch 19/20\n",
      "40000/40000 [==============================] - 58s 1ms/step - loss: 0.8480 - acc: 0.7212 - val_loss: 0.7864 - val_acc: 0.7379\n",
      "Epoch 20/20\n",
      "40000/40000 [==============================] - 57s 1ms/step - loss: 0.8543 - acc: 0.7215 - val_loss: 0.8357 - val_acc: 0.7293\n"
     ]
    }
   ],
   "source": [
    "BATCH_SIZE = 64\n",
    "EPOCHS = 20\n",
    "history = model.fit(X_train, Y_train, \n",
    "                    epochs = EPOCHS,\n",
    "                    batch_size = BATCH_SIZE,\n",
    "                    validation_data = (X_val, Y_val))"
   ]
  },
  {
   "cell_type": "markdown",
   "metadata": {},
   "source": [
    "# Saving Model"
   ]
  },
  {
   "cell_type": "code",
   "execution_count": null,
   "metadata": {},
   "outputs": [],
   "source": []
  },
  {
   "cell_type": "markdown",
   "metadata": {},
   "source": [
    "## Learning Curves"
   ]
  },
  {
   "cell_type": "code",
   "execution_count": 8,
   "metadata": {},
   "outputs": [
    {
     "data": {
      "image/png": "[encoded data removed]",
      "text/plain": [
       "<Figure size 432x288 with 2 Axes>"
      ]
     },
     "metadata": {},
     "output_type": "display_data"
    }
   ],
   "source": [
    "fig, ax = plt.subplots(2,1)\n",
    "ax[0].plot(history.history['loss'], color='b', label=\"Training loss\")\n",
    "ax[0].plot(history.history['val_loss'], color='r', label=\"validation loss\",axes =ax[0])\n",
    "legend = ax[0].legend(loc='best', shadow=True)\n",
    "\n",
    "ax[1].plot(history.history['acc'], color='b', label=\"Training accuracy\")\n",
    "ax[1].plot(history.history['val_acc'], color='r',label=\"Validation accuracy\")\n",
    "legend = ax[1].legend(loc='best', shadow=True)\n",
    "plt.show()"
   ]
  },
  {
   "cell_type": "markdown",
   "metadata": {},
   "source": [
    "## Predict"
   ]
  },
  {
   "cell_type": "code",
   "execution_count": 9,
   "metadata": {},
   "outputs": [],
   "source": [
    "predictions = model.predict(X_test)\n",
    "predictions = np.argmax(predictions, axis=1)"
   ]
  },
  {
   "cell_type": "markdown",
   "metadata": {},
   "source": [
    "## Metrics"
   ]
  },
  {
   "cell_type": "code",
   "execution_count": null,
   "metadata": {
    "scrolled": true
   },
   "outputs": [],
   "source": [
    "Y_true = np.argmax(Y_test, axis=1)\n",
    "acc = accuracy_score(Y_true, predictions)\n",
    "\n",
    "print(\"Accuracy: {}\".format(acc))\n"
   ]
  }
 ],
 "metadata": {
  "kernelspec": {
   "display_name": "Python 2",
   "language": "python",
   "name": "python2"
  },
  "language_info": {
   "codemirror_mode": {
    "name": "ipython",
    "version": 2
   },
   "file_extension": ".py",
   "mimetype": "text/x-python",
   "name": "python",
   "nbconvert_exporter": "python",
   "pygments_lexer": "ipython2",
   "version": "2.7.12"
  }
 },
 "nbformat": 4,
 "nbformat_minor": 2
}
