{
 "cells": [
  {
   "cell_type": "code",
   "execution_count": 1,
   "metadata": {},
   "outputs": [
    {
     "name": "stderr",
     "output_type": "stream",
     "text": [
      "Using TensorFlow backend.\n"
     ]
    }
   ],
   "source": [
    "import numpy as np\n",
    "import matplotlib.pyplot as plt\n",
    "\n",
    "from keras.datasets import cifar10\n",
    "from sklearn.model_selection import train_test_split\n",
    "from keras.utils.np_utils import to_categorical # convert to one-hot-encoding\n",
    "from keras.models import Sequential, Model\n",
    "from keras.layers import Dense, Dropout, Flatten, Conv2D, MaxPool2D, GlobalAveragePooling2D, Input\n",
    "from keras.layers import Conv2D, MaxPooling2D\n",
    "from keras.optimizers import RMSprop, SGD\n",
    "from keras.callbacks import ReduceLROnPlateau, ModelCheckpoint\n",
    "from keras.preprocessing.image import ImageDataGenerator\n",
    "from sklearn.metrics import confusion_matrix, accuracy_score, f1_score, precision_score, recall_score"
   ]
  },
  {
   "cell_type": "markdown",
   "metadata": {},
   "source": [
    "# Data Preprocessing"
   ]
  },
  {
   "cell_type": "code",
   "execution_count": 2,
   "metadata": {},
   "outputs": [],
   "source": [
    "# Set the random seed\n",
    "random_seed = 135791113\n",
    "\n",
    "def load_data():\n",
    "    (x_train, y_train), (x_test, y_test) = cifar10.load_data()\n",
    "    X_train = x_train.astype('float32')\n",
    "    X_test = x_test.astype('float32')\n",
    "    return X_train, y_train, X_test, y_test\n",
    "\n",
    "def labelencoding(y_train, y_val, y_test, nb_classes):\n",
    "    Y_val = to_categorical(y_val, num_classes = nb_classes)\n",
    "    Y_test = to_categorical(y_test, num_classes = nb_classes)\n",
    "    Y_train = to_categorical(y_train.reshape(-1, 1), num_classes = nb_classes)\n",
    "    return Y_train, Y_val, Y_test\n",
    "\n",
    "def split_dataset(X_train, Y_train):\n",
    "\n",
    "    X_train, X_val, Y_train, Y_val = train_test_split(X_train, Y_train, test_size = 0.2, random_state=random_seed)\n",
    "    \n",
    "    return X_train, X_val, Y_train, Y_val"
   ]
  },
  {
   "cell_type": "code",
   "execution_count": 3,
   "metadata": {},
   "outputs": [],
   "source": [
    "CLASSES = 10\n",
    "X_train, Y_train, X_test, Y_test = load_data()\n",
    "X_train, X_val, Y_train, Y_val = split_dataset(X_train, Y_train)\n",
    "Y_train, Y_val, Y_test = labelencoding(Y_train, Y_val, Y_test, CLASSES)"
   ]
  },
  {
   "cell_type": "markdown",
   "metadata": {},
   "source": [
    "### Image to vector and vector normalization"
   ]
  },
  {
   "cell_type": "code",
   "execution_count": 4,
   "metadata": {},
   "outputs": [],
   "source": [
    "vector_shape = 32*32*3\n",
    "\n",
    "X_train = X_train.reshape(-1, vector_shape)\n",
    "X_train = X_train / 255.\n",
    "\n",
    "X_val = X_val.reshape(-1, vector_shape)\n",
    "X_val = X_val / 255.\n",
    "\n",
    "X_test = X_test.reshape(-1, vector_shape)\n",
    "X_test = X_test / 255."
   ]
  },
  {
   "cell_type": "markdown",
   "metadata": {},
   "source": [
    "# Model: Multilayer Perceptron (MLP) for multi-class classification"
   ]
  },
  {
   "cell_type": "code",
   "execution_count": 5,
   "metadata": {},
   "outputs": [],
   "source": [
    "model = Sequential()\n",
    "model.add(Dense(64, activation='relu', input_shape=(vector_shape,)))\n",
    "model.add(Dropout(0.5))\n",
    "model.add(Dense(64, activation='relu'))\n",
    "model.add(Dropout(0.5))\n",
    "model.add(Dense(10, activation='softmax'))"
   ]
  },
  {
   "cell_type": "markdown",
   "metadata": {},
   "source": [
    "### Model compilation"
   ]
  },
  {
   "cell_type": "code",
   "execution_count": 6,
   "metadata": {},
   "outputs": [],
   "source": [
    "model.compile(loss='categorical_crossentropy',\n",
    "              optimizer='sgd',\n",
    "              metrics=['accuracy'])"
   ]
  },
  {
   "cell_type": "markdown",
   "metadata": {},
   "source": [
    "### Training"
   ]
  },
  {
   "cell_type": "code",
   "execution_count": 7,
   "metadata": {
    "scrolled": true
   },
   "outputs": [
    {
     "name": "stdout",
     "output_type": "stream",
     "text": [
      "Train on 40000 samples, validate on 10000 samples\n",
      "Epoch 1/80\n",
      "40000/40000 [==============================] - 2s 53us/step - loss: 2.2565 - acc: 0.1427 - val_loss: 2.1481 - val_acc: 0.2491\n",
      "Epoch 2/80\n",
      "40000/40000 [==============================] - 2s 47us/step - loss: 2.1719 - acc: 0.1852 - val_loss: 2.0507 - val_acc: 0.2849\n",
      "Epoch 3/80\n",
      "40000/40000 [==============================] - 2s 44us/step - loss: 2.1093 - acc: 0.2187 - val_loss: 1.9626 - val_acc: 0.3035\n",
      "Epoch 4/80\n",
      "40000/40000 [==============================] - 2s 45us/step - loss: 2.0667 - acc: 0.2387 - val_loss: 1.9428 - val_acc: 0.3412\n",
      "Epoch 5/80\n",
      "40000/40000 [==============================] - 2s 45us/step - loss: 2.0335 - acc: 0.2540 - val_loss: 1.8952 - val_acc: 0.3429\n",
      "Epoch 6/80\n",
      "40000/40000 [==============================] - 2s 44us/step - loss: 2.0051 - acc: 0.2664 - val_loss: 1.8888 - val_acc: 0.3340\n",
      "Epoch 7/80\n",
      "40000/40000 [==============================] - 2s 46us/step - loss: 1.9866 - acc: 0.2773 - val_loss: 1.8768 - val_acc: 0.3478\n",
      "Epoch 8/80\n",
      "40000/40000 [==============================] - 2s 46us/step - loss: 1.9689 - acc: 0.2806 - val_loss: 1.8268 - val_acc: 0.3631\n",
      "Epoch 9/80\n",
      "40000/40000 [==============================] - 2s 49us/step - loss: 1.9563 - acc: 0.2880 - val_loss: 1.8384 - val_acc: 0.3675\n",
      "Epoch 10/80\n",
      "40000/40000 [==============================] - 2s 49us/step - loss: 1.9379 - acc: 0.2967 - val_loss: 1.8247 - val_acc: 0.3559\n",
      "Epoch 11/80\n",
      "40000/40000 [==============================] - 2s 48us/step - loss: 1.9287 - acc: 0.2994 - val_loss: 1.8032 - val_acc: 0.3771\n",
      "Epoch 12/80\n",
      "40000/40000 [==============================] - 2s 46us/step - loss: 1.9228 - acc: 0.2998 - val_loss: 1.8059 - val_acc: 0.3683\n",
      "Epoch 13/80\n",
      "40000/40000 [==============================] - 2s 46us/step - loss: 1.9088 - acc: 0.3063 - val_loss: 1.7744 - val_acc: 0.3811\n",
      "Epoch 14/80\n",
      "40000/40000 [==============================] - 2s 47us/step - loss: 1.8982 - acc: 0.3125 - val_loss: 1.7666 - val_acc: 0.3781\n",
      "Epoch 15/80\n",
      "40000/40000 [==============================] - 2s 48us/step - loss: 1.8936 - acc: 0.3143 - val_loss: 1.7544 - val_acc: 0.3888\n",
      "Epoch 16/80\n",
      "40000/40000 [==============================] - 2s 52us/step - loss: 1.8805 - acc: 0.3176 - val_loss: 1.7433 - val_acc: 0.3951\n",
      "Epoch 17/80\n",
      "40000/40000 [==============================] - 2s 48us/step - loss: 1.8744 - acc: 0.3223 - val_loss: 1.7489 - val_acc: 0.3892\n",
      "Epoch 18/80\n",
      "40000/40000 [==============================] - 2s 51us/step - loss: 1.8731 - acc: 0.3217 - val_loss: 1.7406 - val_acc: 0.3905\n",
      "Epoch 19/80\n",
      "40000/40000 [==============================] - 2s 43us/step - loss: 1.8668 - acc: 0.3269 - val_loss: 1.7418 - val_acc: 0.3924\n",
      "Epoch 20/80\n",
      "40000/40000 [==============================] - 2s 43us/step - loss: 1.8655 - acc: 0.3253 - val_loss: 1.7362 - val_acc: 0.3975\n",
      "Epoch 21/80\n",
      "40000/40000 [==============================] - 2s 45us/step - loss: 1.8572 - acc: 0.3297 - val_loss: 1.7264 - val_acc: 0.3989\n",
      "Epoch 22/80\n",
      "40000/40000 [==============================] - 2s 47us/step - loss: 1.8521 - acc: 0.3318 - val_loss: 1.7161 - val_acc: 0.4009\n",
      "Epoch 23/80\n",
      "40000/40000 [==============================] - 2s 46us/step - loss: 1.8438 - acc: 0.3367 - val_loss: 1.7256 - val_acc: 0.3989\n",
      "Epoch 24/80\n",
      "40000/40000 [==============================] - 2s 46us/step - loss: 1.8458 - acc: 0.3312 - val_loss: 1.7405 - val_acc: 0.3857\n",
      "Epoch 25/80\n",
      "40000/40000 [==============================] - 2s 47us/step - loss: 1.8364 - acc: 0.3316 - val_loss: 1.7014 - val_acc: 0.3992\n",
      "Epoch 26/80\n",
      "40000/40000 [==============================] - 2s 48us/step - loss: 1.8337 - acc: 0.3386 - val_loss: 1.7011 - val_acc: 0.4047\n",
      "Epoch 27/80\n",
      "40000/40000 [==============================] - 2s 46us/step - loss: 1.8271 - acc: 0.3367 - val_loss: 1.6975 - val_acc: 0.4055\n",
      "Epoch 28/80\n",
      "40000/40000 [==============================] - 2s 45us/step - loss: 1.8269 - acc: 0.3414 - val_loss: 1.7039 - val_acc: 0.3981\n",
      "Epoch 29/80\n",
      "40000/40000 [==============================] - 2s 46us/step - loss: 1.8256 - acc: 0.3394 - val_loss: 1.6965 - val_acc: 0.4095\n",
      "Epoch 30/80\n",
      "40000/40000 [==============================] - 2s 50us/step - loss: 1.8187 - acc: 0.3423 - val_loss: 1.7172 - val_acc: 0.3923\n",
      "Epoch 31/80\n",
      "40000/40000 [==============================] - 2s 47us/step - loss: 1.8158 - acc: 0.3436 - val_loss: 1.6732 - val_acc: 0.4146\n",
      "Epoch 32/80\n",
      "40000/40000 [==============================] - 2s 46us/step - loss: 1.8143 - acc: 0.3424 - val_loss: 1.7003 - val_acc: 0.4084\n",
      "Epoch 33/80\n",
      "40000/40000 [==============================] - 2s 47us/step - loss: 1.8070 - acc: 0.3436 - val_loss: 1.6854 - val_acc: 0.4073\n",
      "Epoch 34/80\n",
      "40000/40000 [==============================] - 2s 46us/step - loss: 1.8027 - acc: 0.3494 - val_loss: 1.6845 - val_acc: 0.4114\n",
      "Epoch 35/80\n",
      "40000/40000 [==============================] - 2s 46us/step - loss: 1.7962 - acc: 0.3512 - val_loss: 1.6842 - val_acc: 0.4079\n",
      "Epoch 36/80\n",
      "40000/40000 [==============================] - 2s 47us/step - loss: 1.7964 - acc: 0.3521 - val_loss: 1.6838 - val_acc: 0.4088\n",
      "Epoch 37/80\n",
      "40000/40000 [==============================] - 2s 55us/step - loss: 1.7973 - acc: 0.3503 - val_loss: 1.6670 - val_acc: 0.4159\n",
      "Epoch 38/80\n",
      "40000/40000 [==============================] - 2s 57us/step - loss: 1.7978 - acc: 0.3514 - val_loss: 1.6749 - val_acc: 0.4107\n",
      "Epoch 39/80\n",
      "40000/40000 [==============================] - 2s 45us/step - loss: 1.7889 - acc: 0.3533 - val_loss: 1.6718 - val_acc: 0.4212\n",
      "Epoch 40/80\n",
      "40000/40000 [==============================] - 2s 46us/step - loss: 1.7881 - acc: 0.3542 - val_loss: 1.6624 - val_acc: 0.4102\n",
      "Epoch 41/80\n",
      "40000/40000 [==============================] - 2s 42us/step - loss: 1.7828 - acc: 0.3529 - val_loss: 1.6664 - val_acc: 0.4099\n",
      "Epoch 42/80\n",
      "40000/40000 [==============================] - 2s 42us/step - loss: 1.7795 - acc: 0.3545 - val_loss: 1.6571 - val_acc: 0.4276\n",
      "Epoch 43/80\n",
      "40000/40000 [==============================] - 2s 42us/step - loss: 1.7852 - acc: 0.3558 - val_loss: 1.6505 - val_acc: 0.4264\n",
      "Epoch 44/80\n",
      "40000/40000 [==============================] - 2s 46us/step - loss: 1.7806 - acc: 0.3588 - val_loss: 1.6522 - val_acc: 0.4258\n",
      "Epoch 45/80\n",
      "40000/40000 [==============================] - 2s 46us/step - loss: 1.7761 - acc: 0.3563 - val_loss: 1.6510 - val_acc: 0.4222\n",
      "Epoch 46/80\n",
      "40000/40000 [==============================] - 2s 50us/step - loss: 1.7780 - acc: 0.3575 - val_loss: 1.6512 - val_acc: 0.4216\n",
      "Epoch 47/80\n",
      "40000/40000 [==============================] - 2s 45us/step - loss: 1.7663 - acc: 0.3602 - val_loss: 1.6413 - val_acc: 0.4270\n",
      "Epoch 48/80\n",
      "40000/40000 [==============================] - 2s 46us/step - loss: 1.7696 - acc: 0.3603 - val_loss: 1.6548 - val_acc: 0.4151\n",
      "Epoch 49/80\n",
      "40000/40000 [==============================] - 2s 45us/step - loss: 1.7686 - acc: 0.3627 - val_loss: 1.6417 - val_acc: 0.4258\n",
      "Epoch 50/80\n",
      "40000/40000 [==============================] - 2s 46us/step - loss: 1.7644 - acc: 0.3636 - val_loss: 1.6515 - val_acc: 0.4213\n",
      "Epoch 51/80\n",
      "40000/40000 [==============================] - 2s 47us/step - loss: 1.7658 - acc: 0.3594 - val_loss: 1.6534 - val_acc: 0.4278\n",
      "Epoch 52/80\n",
      "40000/40000 [==============================] - 2s 44us/step - loss: 1.7667 - acc: 0.3647 - val_loss: 1.6411 - val_acc: 0.4226\n",
      "Epoch 53/80\n",
      "40000/40000 [==============================] - 2s 45us/step - loss: 1.7553 - acc: 0.3649 - val_loss: 1.6413 - val_acc: 0.4261\n",
      "Epoch 54/80\n",
      "40000/40000 [==============================] - 2s 43us/step - loss: 1.7535 - acc: 0.3679 - val_loss: 1.6433 - val_acc: 0.4225\n",
      "Epoch 55/80\n",
      "40000/40000 [==============================] - 2s 43us/step - loss: 1.7552 - acc: 0.3643 - val_loss: 1.6264 - val_acc: 0.4269\n",
      "Epoch 56/80\n",
      "40000/40000 [==============================] - 2s 43us/step - loss: 1.7557 - acc: 0.3661 - val_loss: 1.6540 - val_acc: 0.4155\n",
      "Epoch 57/80\n",
      "40000/40000 [==============================] - 2s 43us/step - loss: 1.7515 - acc: 0.3700 - val_loss: 1.6273 - val_acc: 0.4289\n",
      "Epoch 58/80\n",
      "40000/40000 [==============================] - 2s 43us/step - loss: 1.7539 - acc: 0.3686 - val_loss: 1.6325 - val_acc: 0.4180\n",
      "Epoch 59/80\n",
      "40000/40000 [==============================] - 2s 44us/step - loss: 1.7517 - acc: 0.3707 - val_loss: 1.6416 - val_acc: 0.4185\n",
      "Epoch 60/80\n"
     ]
    },
    {
     "name": "stdout",
     "output_type": "stream",
     "text": [
      "40000/40000 [==============================] - 2s 42us/step - loss: 1.7457 - acc: 0.3695 - val_loss: 1.6252 - val_acc: 0.4273\n",
      "Epoch 61/80\n",
      "40000/40000 [==============================] - 2s 42us/step - loss: 1.7463 - acc: 0.3684 - val_loss: 1.6229 - val_acc: 0.4315\n",
      "Epoch 62/80\n",
      "40000/40000 [==============================] - 2s 43us/step - loss: 1.7412 - acc: 0.3690 - val_loss: 1.6202 - val_acc: 0.4288\n",
      "Epoch 63/80\n",
      "40000/40000 [==============================] - 2s 42us/step - loss: 1.7406 - acc: 0.3711 - val_loss: 1.6264 - val_acc: 0.4300\n",
      "Epoch 64/80\n",
      "40000/40000 [==============================] - 2s 42us/step - loss: 1.7450 - acc: 0.3708 - val_loss: 1.6169 - val_acc: 0.4329\n",
      "Epoch 65/80\n",
      "40000/40000 [==============================] - 2s 42us/step - loss: 1.7387 - acc: 0.3714 - val_loss: 1.6323 - val_acc: 0.4291\n",
      "Epoch 66/80\n",
      "40000/40000 [==============================] - 2s 42us/step - loss: 1.7404 - acc: 0.3679 - val_loss: 1.6261 - val_acc: 0.4304\n",
      "Epoch 67/80\n",
      "40000/40000 [==============================] - 2s 43us/step - loss: 1.7344 - acc: 0.3730 - val_loss: 1.6175 - val_acc: 0.4255\n",
      "Epoch 68/80\n",
      "40000/40000 [==============================] - 2s 43us/step - loss: 1.7270 - acc: 0.3780 - val_loss: 1.6228 - val_acc: 0.4351\n",
      "Epoch 69/80\n",
      "40000/40000 [==============================] - 2s 42us/step - loss: 1.7294 - acc: 0.3765 - val_loss: 1.6106 - val_acc: 0.4288\n",
      "Epoch 70/80\n",
      "40000/40000 [==============================] - 2s 43us/step - loss: 1.7261 - acc: 0.3760 - val_loss: 1.6166 - val_acc: 0.4316\n",
      "Epoch 71/80\n",
      "40000/40000 [==============================] - 2s 44us/step - loss: 1.7336 - acc: 0.3772 - val_loss: 1.6296 - val_acc: 0.4267\n",
      "Epoch 72/80\n",
      "40000/40000 [==============================] - 2s 43us/step - loss: 1.7312 - acc: 0.3736 - val_loss: 1.6031 - val_acc: 0.4367\n",
      "Epoch 73/80\n",
      "40000/40000 [==============================] - 2s 42us/step - loss: 1.7259 - acc: 0.3782 - val_loss: 1.6185 - val_acc: 0.4369\n",
      "Epoch 74/80\n",
      "40000/40000 [==============================] - 2s 42us/step - loss: 1.7235 - acc: 0.3799 - val_loss: 1.6147 - val_acc: 0.4339\n",
      "Epoch 75/80\n",
      "40000/40000 [==============================] - 2s 42us/step - loss: 1.7276 - acc: 0.3790 - val_loss: 1.6164 - val_acc: 0.4245\n",
      "Epoch 76/80\n",
      "40000/40000 [==============================] - 2s 42us/step - loss: 1.7187 - acc: 0.3778 - val_loss: 1.6149 - val_acc: 0.4299\n",
      "Epoch 77/80\n",
      "40000/40000 [==============================] - 2s 42us/step - loss: 1.7225 - acc: 0.3779 - val_loss: 1.6048 - val_acc: 0.4296\n",
      "Epoch 78/80\n",
      "40000/40000 [==============================] - 2s 44us/step - loss: 1.7272 - acc: 0.3784 - val_loss: 1.6041 - val_acc: 0.4393\n",
      "Epoch 79/80\n",
      "40000/40000 [==============================] - 2s 43us/step - loss: 1.7186 - acc: 0.3812 - val_loss: 1.6063 - val_acc: 0.4321\n",
      "Epoch 80/80\n",
      "40000/40000 [==============================] - 2s 43us/step - loss: 1.7160 - acc: 0.3791 - val_loss: 1.6036 - val_acc: 0.4332\n"
     ]
    }
   ],
   "source": [
    "BATCH_SIZE = 64\n",
    "EPOCHS = 80\n",
    "history = model.fit(X_train, Y_train, \n",
    "                    epochs = EPOCHS,\n",
    "                    batch_size = BATCH_SIZE,\n",
    "                    validation_data = (X_val, Y_val))"
   ]
  },
  {
   "cell_type": "markdown",
   "metadata": {},
   "source": [
    "## Learning Curves"
   ]
  },
  {
   "cell_type": "code",
   "execution_count": 8,
   "metadata": {},
   "outputs": [
    {
     "data": {
      "image/png": "[encoded data removed]",
      "text/plain": [
       "<Figure size 432x288 with 2 Axes>"
      ]
     },
     "metadata": {},
     "output_type": "display_data"
    }
   ],
   "source": [
    "fig, ax = plt.subplots(2,1)\n",
    "ax[0].plot(history.history['loss'], color='b', label=\"Training loss\")\n",
    "ax[0].plot(history.history['val_loss'], color='r', label=\"validation loss\",axes =ax[0])\n",
    "legend = ax[0].legend(loc='best', shadow=True)\n",
    "\n",
    "ax[1].plot(history.history['acc'], color='b', label=\"Training accuracy\")\n",
    "ax[1].plot(history.history['val_acc'], color='r',label=\"Validation accuracy\")\n",
    "legend = ax[1].legend(loc='best', shadow=True)\n",
    "plt.show()"
   ]
  },
  {
   "cell_type": "markdown",
   "metadata": {},
   "source": [
    "## Predict"
   ]
  },
  {
   "cell_type": "code",
   "execution_count": 9,
   "metadata": {},
   "outputs": [],
   "source": [
    "predictions = model.predict(X_test)\n",
    "predictions = np.argmax(predictions, axis=1)"
   ]
  },
  {
   "cell_type": "markdown",
   "metadata": {},
   "source": [
    "## Metrics"
   ]
  },
  {
   "cell_type": "code",
   "execution_count": null,
   "metadata": {},
   "outputs": [],
   "source": [
    "Y_true = np.argmax(Y_test, axis=1)\n",
    "acc = accuracy_score(Y_true, predictions))\n",
    "\n",
    "print(\"Accuracy: {}\".format(acc))"
   ]
  },
  {
   "cell_type": "code",
   "execution_count": null,
   "metadata": {},
   "outputs": [],
   "source": []
  }
 ],
 "metadata": {
  "kernelspec": {
   "display_name": "Python 3",
   "language": "python",
   "name": "python3"
  },
  "language_info": {
   "codemirror_mode": {
    "name": "ipython",
    "version": 3
   },
   "file_extension": ".py",
   "mimetype": "text/x-python",
   "name": "python",
   "nbconvert_exporter": "python",
   "pygments_lexer": "ipython3",
   "version": "3.5.2"
  }
 },
 "nbformat": 4,
 "nbformat_minor": 2
}
