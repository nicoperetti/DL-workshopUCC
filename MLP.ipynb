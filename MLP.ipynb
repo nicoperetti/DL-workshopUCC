{
 "cells": [
  {
   "cell_type": "code",
   "execution_count": 1,
   "metadata": {},
   "outputs": [
    {
     "name": "stderr",
     "output_type": "stream",
     "text": [
      "Using TensorFlow backend.\n"
     ]
    }
   ],
   "source": [
    "import numpy as np\n",
    "import matplotlib.pyplot as plt\n",
    "\n",
    "from keras.datasets import cifar10\n",
    "from sklearn.model_selection import train_test_split\n",
    "from keras.utils.np_utils import to_categorical # convert to one-hot-encoding\n",
    "from keras.models import Sequential, Model\n",
    "from keras.layers import Dense, Dropout, Flatten, Conv2D, MaxPool2D, GlobalAveragePooling2D, Input\n",
    "from keras.layers import Conv2D, MaxPooling2D\n",
    "from keras.optimizers import RMSprop, SGD\n",
    "from keras.callbacks import ReduceLROnPlateau, ModelCheckpoint\n",
    "from keras.preprocessing.image import ImageDataGenerator\n",
    "from sklearn.metrics import confusion_matrix, accuracy_score, f1_score, precision_score, recall_score"
   ]
  },
  {
   "cell_type": "markdown",
   "metadata": {},
   "source": [
    "# Data Preprocessing"
   ]
  },
  {
   "cell_type": "code",
   "execution_count": 2,
   "metadata": {},
   "outputs": [],
   "source": [
    "# Set the random seed\n",
    "random_seed = 135791113\n",
    "\n",
    "def load_data():\n",
    "    (x_train, y_train), (x_test, y_test) = cifar10.load_data()\n",
    "    X_train = x_train.astype('float32')\n",
    "    X_test = x_test.astype('float32')\n",
    "    return X_train, y_train, X_test, y_test\n",
    "\n",
    "def labelencoding(y_train, y_val, y_test, nb_classes):\n",
    "    Y_val = to_categorical(y_val, num_classes = nb_classes)\n",
    "    Y_test = to_categorical(y_test, num_classes = nb_classes)\n",
    "    Y_train = to_categorical(y_train.reshape(-1, 1), num_classes = nb_classes)\n",
    "    return Y_train, Y_val, Y_test\n",
    "\n",
    "def split_dataset(X_train, Y_train):\n",
    "\n",
    "    X_train, X_val, Y_train, Y_val = train_test_split(X_train, Y_train, test_size = 0.2, random_state=random_seed)\n",
    "    \n",
    "    return X_train, X_val, Y_train, Y_val"
   ]
  },
  {
   "cell_type": "code",
   "execution_count": 3,
   "metadata": {},
   "outputs": [],
   "source": [
    "CLASSES = 10\n",
    "X_train, Y_train, X_test, Y_test = load_data()\n",
    "X_train, X_val, Y_train, Y_val = split_dataset(X_train, Y_train)\n",
    "Y_train, Y_val, Y_test = labelencoding(Y_train, Y_val, Y_test, CLASSES)"
   ]
  },
  {
   "cell_type": "markdown",
   "metadata": {},
   "source": [
    "### Image to vector and vector normalization"
   ]
  },
  {
   "cell_type": "code",
   "execution_count": 4,
   "metadata": {},
   "outputs": [],
   "source": [
    "vector_shape = 32*32*3\n",
    "\n",
    "X_train = X_train.reshape(-1, vector_shape)\n",
    "X_train = X_train / 255.\n",
    "\n",
    "X_val = X_val.reshape(-1, vector_shape)\n",
    "X_val = X_val / 255.\n",
    "\n",
    "X_test = X_test.reshape(-1, vector_shape)\n",
    "X_test = X_test / 255."
   ]
  },
  {
   "cell_type": "markdown",
   "metadata": {},
   "source": [
    "# Model: Multilayer Perceptron (MLP) for multi-class classification"
   ]
  },
  {
   "cell_type": "code",
   "execution_count": 5,
   "metadata": {},
   "outputs": [],
   "source": [
    "model = Sequential()\n",
    "model.add(Dense(64, activation='relu', input_shape=(vector_shape,)))\n",
    "model.add(Dropout(0.5))\n",
    "model.add(Dense(64, activation='relu'))\n",
    "model.add(Dropout(0.5))\n",
    "model.add(Dense(10, activation='softmax'))"
   ]
  },
  {
   "cell_type": "markdown",
   "metadata": {},
   "source": [
    "### Model compilation"
   ]
  },
  {
   "cell_type": "code",
   "execution_count": 6,
   "metadata": {},
   "outputs": [],
   "source": [
    "model.compile(loss='categorical_crossentropy',\n",
    "              optimizer='sgd',\n",
    "              metrics=['accuracy'])"
   ]
  },
  {
   "cell_type": "markdown",
   "metadata": {},
   "source": [
    "### Training"
   ]
  },
  {
   "cell_type": "code",
   "execution_count": 7,
   "metadata": {
    "scrolled": true
   },
   "outputs": [
    {
     "name": "stdout",
     "output_type": "stream",
     "text": [
      "Train on 40000 samples, validate on 10000 samples\n",
      "Epoch 1/80\n",
      "40000/40000 [==============================] - 2s 49us/step - loss: 2.2706 - acc: 0.1482 - val_loss: 2.1530 - val_acc: 0.2329\n",
      "Epoch 2/80\n",
      "40000/40000 [==============================] - 2s 43us/step - loss: 2.1772 - acc: 0.1943 - val_loss: 2.0254 - val_acc: 0.2904\n",
      "Epoch 3/80\n",
      "40000/40000 [==============================] - 2s 41us/step - loss: 2.1022 - acc: 0.2195 - val_loss: 1.9635 - val_acc: 0.2986\n",
      "Epoch 4/80\n",
      "40000/40000 [==============================] - 2s 41us/step - loss: 2.0605 - acc: 0.2353 - val_loss: 1.9257 - val_acc: 0.3255\n",
      "Epoch 5/80\n",
      "40000/40000 [==============================] - 2s 41us/step - loss: 2.0399 - acc: 0.2414 - val_loss: 1.8963 - val_acc: 0.3270\n",
      "Epoch 6/80\n",
      "40000/40000 [==============================] - 2s 41us/step - loss: 2.0177 - acc: 0.2507 - val_loss: 1.8989 - val_acc: 0.3199\n",
      "Epoch 7/80\n",
      "40000/40000 [==============================] - 2s 41us/step - loss: 1.9982 - acc: 0.2583 - val_loss: 1.8877 - val_acc: 0.3210\n",
      "Epoch 8/80\n",
      "40000/40000 [==============================] - 2s 43us/step - loss: 1.9836 - acc: 0.2667 - val_loss: 1.8489 - val_acc: 0.3453\n",
      "Epoch 9/80\n",
      "40000/40000 [==============================] - 2s 45us/step - loss: 1.9723 - acc: 0.2710 - val_loss: 1.8406 - val_acc: 0.3368\n",
      "Epoch 10/80\n",
      "40000/40000 [==============================] - 2s 39us/step - loss: 1.9633 - acc: 0.2764 - val_loss: 1.8430 - val_acc: 0.3548\n",
      "Epoch 11/80\n",
      "40000/40000 [==============================] - 2s 45us/step - loss: 1.9573 - acc: 0.2794 - val_loss: 1.8238 - val_acc: 0.3518\n",
      "Epoch 12/80\n",
      "40000/40000 [==============================] - 2s 40us/step - loss: 1.9452 - acc: 0.2858 - val_loss: 1.8238 - val_acc: 0.3539\n",
      "Epoch 13/80\n",
      "40000/40000 [==============================] - 2s 43us/step - loss: 1.9385 - acc: 0.2898 - val_loss: 1.8203 - val_acc: 0.3682\n",
      "Epoch 14/80\n",
      "40000/40000 [==============================] - 2s 45us/step - loss: 1.9270 - acc: 0.2937 - val_loss: 1.8174 - val_acc: 0.3660\n",
      "Epoch 15/80\n",
      "40000/40000 [==============================] - 2s 42us/step - loss: 1.9181 - acc: 0.2981 - val_loss: 1.8005 - val_acc: 0.3687\n",
      "Epoch 16/80\n",
      "40000/40000 [==============================] - 2s 43us/step - loss: 1.9152 - acc: 0.2984 - val_loss: 1.8018 - val_acc: 0.3665\n",
      "Epoch 17/80\n",
      "40000/40000 [==============================] - 2s 44us/step - loss: 1.9099 - acc: 0.3015 - val_loss: 1.7898 - val_acc: 0.3720\n",
      "Epoch 18/80\n",
      "40000/40000 [==============================] - 2s 43us/step - loss: 1.9005 - acc: 0.3064 - val_loss: 1.7821 - val_acc: 0.3863\n",
      "Epoch 19/80\n",
      "40000/40000 [==============================] - 2s 45us/step - loss: 1.9021 - acc: 0.3080 - val_loss: 1.7785 - val_acc: 0.3796\n",
      "Epoch 20/80\n",
      "40000/40000 [==============================] - 2s 43us/step - loss: 1.8913 - acc: 0.3072 - val_loss: 1.7966 - val_acc: 0.3738\n",
      "Epoch 21/80\n",
      "40000/40000 [==============================] - 2s 44us/step - loss: 1.8922 - acc: 0.3113 - val_loss: 1.7812 - val_acc: 0.3836\n",
      "Epoch 22/80\n",
      "40000/40000 [==============================] - 2s 39us/step - loss: 1.8867 - acc: 0.3111 - val_loss: 1.7612 - val_acc: 0.3905\n",
      "Epoch 23/80\n",
      "40000/40000 [==============================] - 2s 47us/step - loss: 1.8830 - acc: 0.3127 - val_loss: 1.7503 - val_acc: 0.3929\n",
      "Epoch 24/80\n",
      "40000/40000 [==============================] - 2s 45us/step - loss: 1.8724 - acc: 0.3152 - val_loss: 1.7531 - val_acc: 0.3917\n",
      "Epoch 25/80\n",
      "40000/40000 [==============================] - 2s 40us/step - loss: 1.8690 - acc: 0.3201 - val_loss: 1.7283 - val_acc: 0.3917\n",
      "Epoch 26/80\n",
      "40000/40000 [==============================] - 2s 44us/step - loss: 1.8696 - acc: 0.3176 - val_loss: 1.7440 - val_acc: 0.3926\n",
      "Epoch 27/80\n",
      "40000/40000 [==============================] - 2s 42us/step - loss: 1.8640 - acc: 0.3193 - val_loss: 1.7453 - val_acc: 0.3979\n",
      "Epoch 28/80\n",
      "40000/40000 [==============================] - 2s 40us/step - loss: 1.8596 - acc: 0.3297 - val_loss: 1.7410 - val_acc: 0.3987\n",
      "Epoch 29/80\n",
      "40000/40000 [==============================] - 2s 43us/step - loss: 1.8526 - acc: 0.3272 - val_loss: 1.7281 - val_acc: 0.3938\n",
      "Epoch 30/80\n",
      "40000/40000 [==============================] - 2s 41us/step - loss: 1.8445 - acc: 0.3310 - val_loss: 1.7260 - val_acc: 0.3976\n",
      "Epoch 31/80\n",
      "40000/40000 [==============================] - 2s 45us/step - loss: 1.8523 - acc: 0.3270 - val_loss: 1.7279 - val_acc: 0.3931\n",
      "Epoch 32/80\n",
      "40000/40000 [==============================] - 2s 43us/step - loss: 1.8427 - acc: 0.3281 - val_loss: 1.7199 - val_acc: 0.4007\n",
      "Epoch 33/80\n",
      "40000/40000 [==============================] - 2s 46us/step - loss: 1.8449 - acc: 0.3295 - val_loss: 1.7218 - val_acc: 0.4009\n",
      "Epoch 34/80\n",
      "40000/40000 [==============================] - 2s 43us/step - loss: 1.8357 - acc: 0.3332 - val_loss: 1.7157 - val_acc: 0.3981\n",
      "Epoch 35/80\n",
      "40000/40000 [==============================] - 2s 40us/step - loss: 1.8348 - acc: 0.3308 - val_loss: 1.7064 - val_acc: 0.4029\n",
      "Epoch 36/80\n",
      "40000/40000 [==============================] - 2s 38us/step - loss: 1.8302 - acc: 0.3345 - val_loss: 1.7044 - val_acc: 0.4099\n",
      "Epoch 37/80\n",
      "40000/40000 [==============================] - 2s 43us/step - loss: 1.8323 - acc: 0.3332 - val_loss: 1.7049 - val_acc: 0.4076\n",
      "Epoch 38/80\n",
      "40000/40000 [==============================] - 2s 39us/step - loss: 1.8245 - acc: 0.3340 - val_loss: 1.7121 - val_acc: 0.3952\n",
      "Epoch 39/80\n",
      "40000/40000 [==============================] - 2s 38us/step - loss: 1.8252 - acc: 0.3343 - val_loss: 1.7020 - val_acc: 0.4041\n",
      "Epoch 40/80\n",
      "40000/40000 [==============================] - 2s 43us/step - loss: 1.8207 - acc: 0.3365 - val_loss: 1.7168 - val_acc: 0.4058\n",
      "Epoch 41/80\n",
      "40000/40000 [==============================] - 2s 41us/step - loss: 1.8169 - acc: 0.3368 - val_loss: 1.7015 - val_acc: 0.4014\n",
      "Epoch 42/80\n",
      "40000/40000 [==============================] - 2s 43us/step - loss: 1.8140 - acc: 0.3400 - val_loss: 1.6914 - val_acc: 0.4153\n",
      "Epoch 43/80\n",
      "40000/40000 [==============================] - 2s 40us/step - loss: 1.8124 - acc: 0.3387 - val_loss: 1.6872 - val_acc: 0.4107\n",
      "Epoch 44/80\n",
      "40000/40000 [==============================] - 2s 40us/step - loss: 1.8132 - acc: 0.3417 - val_loss: 1.6874 - val_acc: 0.4086\n",
      "Epoch 45/80\n",
      "40000/40000 [==============================] - 1s 37us/step - loss: 1.8110 - acc: 0.3390 - val_loss: 1.6880 - val_acc: 0.4094\n",
      "Epoch 46/80\n",
      "40000/40000 [==============================] - 2s 39us/step - loss: 1.8002 - acc: 0.3451 - val_loss: 1.6805 - val_acc: 0.4182\n",
      "Epoch 47/80\n",
      "40000/40000 [==============================] - 2s 40us/step - loss: 1.8051 - acc: 0.3434 - val_loss: 1.6904 - val_acc: 0.4122\n",
      "Epoch 48/80\n",
      "40000/40000 [==============================] - 2s 46us/step - loss: 1.8070 - acc: 0.3436 - val_loss: 1.6763 - val_acc: 0.4134\n",
      "Epoch 49/80\n",
      "40000/40000 [==============================] - 2s 41us/step - loss: 1.7992 - acc: 0.3441 - val_loss: 1.6915 - val_acc: 0.4021\n",
      "Epoch 50/80\n",
      "40000/40000 [==============================] - 2s 42us/step - loss: 1.7976 - acc: 0.3489 - val_loss: 1.6846 - val_acc: 0.4052\n",
      "Epoch 51/80\n",
      "40000/40000 [==============================] - 2s 40us/step - loss: 1.7905 - acc: 0.3483 - val_loss: 1.6759 - val_acc: 0.4178\n",
      "Epoch 52/80\n",
      "40000/40000 [==============================] - 2s 42us/step - loss: 1.7972 - acc: 0.3456 - val_loss: 1.6773 - val_acc: 0.4092\n",
      "Epoch 53/80\n",
      "40000/40000 [==============================] - 2s 43us/step - loss: 1.7902 - acc: 0.3485 - val_loss: 1.6669 - val_acc: 0.4180\n",
      "Epoch 54/80\n",
      "40000/40000 [==============================] - 2s 45us/step - loss: 1.7880 - acc: 0.3532 - val_loss: 1.6666 - val_acc: 0.4224\n",
      "Epoch 55/80\n",
      "40000/40000 [==============================] - 2s 45us/step - loss: 1.7815 - acc: 0.3518 - val_loss: 1.6732 - val_acc: 0.4038\n",
      "Epoch 56/80\n",
      "40000/40000 [==============================] - 2s 43us/step - loss: 1.7839 - acc: 0.3503 - val_loss: 1.6647 - val_acc: 0.4058\n",
      "Epoch 57/80\n",
      "40000/40000 [==============================] - 2s 41us/step - loss: 1.7838 - acc: 0.3513 - val_loss: 1.6590 - val_acc: 0.4241\n",
      "Epoch 58/80\n",
      "40000/40000 [==============================] - 2s 42us/step - loss: 1.7781 - acc: 0.3549 - val_loss: 1.6459 - val_acc: 0.4227\n",
      "Epoch 59/80\n",
      "40000/40000 [==============================] - 2s 43us/step - loss: 1.7774 - acc: 0.3538 - val_loss: 1.6539 - val_acc: 0.4221\n",
      "Epoch 60/80\n"
     ]
    },
    {
     "name": "stdout",
     "output_type": "stream",
     "text": [
      "40000/40000 [==============================] - 2s 42us/step - loss: 1.7747 - acc: 0.3560 - val_loss: 1.6492 - val_acc: 0.4281\n",
      "Epoch 61/80\n",
      "40000/40000 [==============================] - 2s 40us/step - loss: 1.7711 - acc: 0.3545 - val_loss: 1.6517 - val_acc: 0.4129\n",
      "Epoch 62/80\n",
      "40000/40000 [==============================] - 2s 40us/step - loss: 1.7703 - acc: 0.3582 - val_loss: 1.6504 - val_acc: 0.4202\n",
      "Epoch 63/80\n",
      "40000/40000 [==============================] - 2s 40us/step - loss: 1.7662 - acc: 0.3609 - val_loss: 1.6468 - val_acc: 0.4231\n",
      "Epoch 64/80\n",
      "40000/40000 [==============================] - 2s 40us/step - loss: 1.7697 - acc: 0.3584 - val_loss: 1.6585 - val_acc: 0.4201\n",
      "Epoch 65/80\n",
      "40000/40000 [==============================] - 2s 41us/step - loss: 1.7633 - acc: 0.3628 - val_loss: 1.6405 - val_acc: 0.4285\n",
      "Epoch 66/80\n",
      "40000/40000 [==============================] - 2s 43us/step - loss: 1.7602 - acc: 0.3622 - val_loss: 1.6342 - val_acc: 0.4262\n",
      "Epoch 67/80\n",
      "40000/40000 [==============================] - 2s 41us/step - loss: 1.7610 - acc: 0.3605 - val_loss: 1.6498 - val_acc: 0.4178\n",
      "Epoch 68/80\n",
      "40000/40000 [==============================] - 2s 41us/step - loss: 1.7585 - acc: 0.3641 - val_loss: 1.6369 - val_acc: 0.4305\n",
      "Epoch 69/80\n",
      "40000/40000 [==============================] - 2s 42us/step - loss: 1.7553 - acc: 0.3649 - val_loss: 1.6367 - val_acc: 0.4312\n",
      "Epoch 70/80\n",
      "40000/40000 [==============================] - 2s 41us/step - loss: 1.7534 - acc: 0.3643 - val_loss: 1.6469 - val_acc: 0.4179\n",
      "Epoch 71/80\n",
      "40000/40000 [==============================] - 2s 40us/step - loss: 1.7558 - acc: 0.3653 - val_loss: 1.6413 - val_acc: 0.4282\n",
      "Epoch 72/80\n",
      "40000/40000 [==============================] - 2s 41us/step - loss: 1.7491 - acc: 0.3698 - val_loss: 1.6268 - val_acc: 0.4280\n",
      "Epoch 73/80\n",
      "40000/40000 [==============================] - 2s 41us/step - loss: 1.7491 - acc: 0.3705 - val_loss: 1.6216 - val_acc: 0.4325\n",
      "Epoch 74/80\n",
      "40000/40000 [==============================] - 2s 41us/step - loss: 1.7449 - acc: 0.3691 - val_loss: 1.6237 - val_acc: 0.4305\n",
      "Epoch 75/80\n",
      "40000/40000 [==============================] - 2s 42us/step - loss: 1.7410 - acc: 0.3716 - val_loss: 1.6200 - val_acc: 0.4341\n",
      "Epoch 76/80\n",
      "40000/40000 [==============================] - 2s 42us/step - loss: 1.7366 - acc: 0.3686 - val_loss: 1.6277 - val_acc: 0.4284\n",
      "Epoch 77/80\n",
      "40000/40000 [==============================] - 2s 42us/step - loss: 1.7408 - acc: 0.3681 - val_loss: 1.6211 - val_acc: 0.4324\n",
      "Epoch 78/80\n",
      "40000/40000 [==============================] - 2s 41us/step - loss: 1.7354 - acc: 0.3699 - val_loss: 1.6115 - val_acc: 0.4313\n",
      "Epoch 79/80\n",
      "40000/40000 [==============================] - 2s 42us/step - loss: 1.7342 - acc: 0.3711 - val_loss: 1.6110 - val_acc: 0.4354\n",
      "Epoch 80/80\n",
      "40000/40000 [==============================] - 2s 42us/step - loss: 1.7377 - acc: 0.3735 - val_loss: 1.6133 - val_acc: 0.4348\n"
     ]
    }
   ],
   "source": [
    "BATCH_SIZE = 64\n",
    "EPOCHS = 80\n",
    "history = model.fit(X_train, Y_train, \n",
    "                    epochs = EPOCHS,\n",
    "                    batch_size = BATCH_SIZE,\n",
    "                    validation_data = (X_val, Y_val))"
   ]
  },
  {
   "cell_type": "markdown",
   "metadata": {},
   "source": [
    "## Learning Curves"
   ]
  },
  {
   "cell_type": "code",
   "execution_count": 8,
   "metadata": {},
   "outputs": [
    {
     "data": {
      "image/png": "[encoded data removed]",
      "text/plain": [
       "<Figure size 432x288 with 2 Axes>"
      ]
     },
     "metadata": {},
     "output_type": "display_data"
    }
   ],
   "source": [
    "fig, ax = plt.subplots(2,1)\n",
    "ax[0].plot(history.history['loss'], color='b', label=\"Training loss\")\n",
    "ax[0].plot(history.history['val_loss'], color='r', label=\"validation loss\",axes =ax[0])\n",
    "legend = ax[0].legend(loc='best', shadow=True)\n",
    "\n",
    "ax[1].plot(history.history['acc'], color='b', label=\"Training accuracy\")\n",
    "ax[1].plot(history.history['val_acc'], color='r',label=\"Validation accuracy\")\n",
    "legend = ax[1].legend(loc='best', shadow=True)\n",
    "plt.show()"
   ]
  },
  {
   "cell_type": "markdown",
   "metadata": {},
   "source": [
    "## Predict"
   ]
  },
  {
   "cell_type": "code",
   "execution_count": 9,
   "metadata": {},
   "outputs": [],
   "source": [
    "predictions = model.predict(X_test)\n",
    "predictions = np.argmax(predictions, axis=1)"
   ]
  },
  {
   "cell_type": "markdown",
   "metadata": {},
   "source": [
    "## Metrics"
   ]
  },
  {
   "cell_type": "code",
   "execution_count": 10,
   "metadata": {},
   "outputs": [
    {
     "name": "stdout",
     "output_type": "stream",
     "text": [
      "Accuracy: 0.4374\n"
     ]
    }
   ],
   "source": [
    "Y_true = np.argmax(Y_test, axis=1)\n",
    "acc = accuracy_score(Y_true, predictions)\n",
    "\n",
    "print(\"Accuracy: {}\".format(acc))"
   ]
  },
  {
   "cell_type": "code",
   "execution_count": null,
   "metadata": {},
   "outputs": [],
   "source": []
  }
 ],
 "metadata": {
  "kernelspec": {
   "display_name": "Python 3",
   "language": "python",
   "name": "python3"
  },
  "language_info": {
   "codemirror_mode": {
    "name": "ipython",
    "version": 3
   },
   "file_extension": ".py",
   "mimetype": "text/x-python",
   "name": "python",
   "nbconvert_exporter": "python",
   "pygments_lexer": "ipython3",
   "version": "3.5.2"
  }
 },
 "nbformat": 4,
 "nbformat_minor": 2
}
