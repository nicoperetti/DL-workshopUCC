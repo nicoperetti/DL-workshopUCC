{
 "cells": [
  {
   "cell_type": "code",
   "execution_count": 3,
   "metadata": {},
   "outputs": [
    {
     "name": "stderr",
     "output_type": "stream",
     "text": [
      "Using TensorFlow backend.\n"
     ]
    }
   ],
   "source": [
    "import numpy as np\n",
    "import matplotlib.pyplot as plt\n",
    "\n",
    "from keras.datasets import cifar10\n",
    "from sklearn.model_selection import train_test_split\n",
    "from keras.utils.np_utils import to_categorical # convert to one-hot-encoding\n",
    "from keras.models import Sequential, Model\n",
    "from keras.layers import Dense, Dropout, Flatten, Conv2D, MaxPool2D, GlobalAveragePooling2D, Input\n",
    "from keras.layers import Conv2D, MaxPooling2D\n",
    "from keras.optimizers import RMSprop, SGD\n",
    "from keras.callbacks import ReduceLROnPlateau, ModelCheckpoint\n",
    "from keras.preprocessing.image import ImageDataGenerator\n",
    "from sklearn.metrics import confusion_matrix, accuracy_score, f1_score, precision_score, recall_score"
   ]
  },
  {
   "cell_type": "markdown",
   "metadata": {},
   "source": [
    "# Data Preprocessing"
   ]
  },
  {
   "cell_type": "code",
   "execution_count": 4,
   "metadata": {},
   "outputs": [],
   "source": [
    "def load_data():\n",
    "    (x_train, y_train), (x_test, y_test) = cifar10.load_data()\n",
    "    X_train = x_train.astype('float32')\n",
    "    X_test = x_test.astype('float32')\n",
    "    return X_train, y_train, X_test, y_test\n",
    "\n",
    "def labelencoding(y_train, y_val, y_test, nb_classes):\n",
    "    Y_val = to_categorical(y_val, num_classes = nb_classes)\n",
    "    Y_test = to_categorical(y_test, num_classes = nb_classes)\n",
    "    Y_train = to_categorical(y_train.reshape(-1, 1), num_classes = nb_classes)\n",
    "    return Y_train, Y_val, Y_test\n",
    "\n",
    "def split_dataset(X_train, Y_train):\n",
    "\n",
    "    # Set the random seed\n",
    "    random_seed = 2\n",
    "\n",
    "    X_train, X_val, Y_train, Y_val = train_test_split(X_train, Y_train, test_size = 0.2, random_state=random_seed)\n",
    "    \n",
    "    return X_train, X_val, Y_train, Y_val"
   ]
  },
  {
   "cell_type": "code",
   "execution_count": 5,
   "metadata": {},
   "outputs": [],
   "source": [
    "CLASSES = 10\n",
    "X_train, Y_train, X_test, Y_test = load_data()\n",
    "X_train, X_val, Y_train, Y_val = split_dataset(X_train, Y_train)\n",
    "Y_train, Y_val, Y_test = labelencoding(Y_train, Y_val, Y_test, CLASSES)"
   ]
  },
  {
   "cell_type": "markdown",
   "metadata": {},
   "source": [
    "### Image to vector and vector normalization"
   ]
  },
  {
   "cell_type": "code",
   "execution_count": 6,
   "metadata": {},
   "outputs": [],
   "source": [
    "vector_shape = 32*32*3\n",
    "\n",
    "X_train = X_train.reshape(-1, vector_shape)\n",
    "X_train = X_train / 255.\n",
    "\n",
    "X_val = X_val.reshape(-1, vector_shape)\n",
    "X_val = X_val / 255.\n",
    "\n",
    "X_test = X_test.reshape(-1, vector_shape)\n",
    "X_test = X_test / 255."
   ]
  },
  {
   "cell_type": "markdown",
   "metadata": {},
   "source": [
    "# Model: Multilayer Perceptron (MLP) for multi-class classification"
   ]
  },
  {
   "cell_type": "code",
   "execution_count": 7,
   "metadata": {},
   "outputs": [],
   "source": [
    "model = Sequential()\n",
    "model.add(Dense(64, activation='relu', input_shape=(vector_shape,)))\n",
    "model.add(Dropout(0.5))\n",
    "model.add(Dense(64, activation='relu'))\n",
    "model.add(Dropout(0.5))\n",
    "model.add(Dense(10, activation='softmax'))"
   ]
  },
  {
   "cell_type": "markdown",
   "metadata": {},
   "source": [
    "### Model compilation"
   ]
  },
  {
   "cell_type": "code",
   "execution_count": 8,
   "metadata": {},
   "outputs": [],
   "source": [
    "model.compile(loss='categorical_crossentropy',\n",
    "              optimizer='sgd',\n",
    "              metrics=['accuracy'])"
   ]
  },
  {
   "cell_type": "markdown",
   "metadata": {},
   "source": [
    "### Training"
   ]
  },
  {
   "cell_type": "code",
   "execution_count": 9,
   "metadata": {
    "scrolled": true
   },
   "outputs": [
    {
     "name": "stdout",
     "output_type": "stream",
     "text": [
      "Train on 40000 samples, validate on 10000 samples\n",
      "Epoch 1/80\n",
      "40000/40000 [==============================] - 2s 51us/step - loss: 2.2654 - acc: 0.1414 - val_loss: 2.1719 - val_acc: 0.2310\n",
      "Epoch 2/80\n",
      "40000/40000 [==============================] - 2s 48us/step - loss: 2.1868 - acc: 0.1839 - val_loss: 2.0873 - val_acc: 0.2707\n",
      "Epoch 3/80\n",
      "40000/40000 [==============================] - 2s 46us/step - loss: 2.1303 - acc: 0.2021 - val_loss: 2.0071 - val_acc: 0.2954\n",
      "Epoch 4/80\n",
      "40000/40000 [==============================] - 2s 44us/step - loss: 2.0927 - acc: 0.2183 - val_loss: 1.9998 - val_acc: 0.3106\n",
      "Epoch 5/80\n",
      "40000/40000 [==============================] - 2s 44us/step - loss: 2.0626 - acc: 0.2332 - val_loss: 1.9398 - val_acc: 0.3333\n",
      "Epoch 6/80\n",
      "40000/40000 [==============================] - 2s 43us/step - loss: 2.0325 - acc: 0.2457 - val_loss: 1.9208 - val_acc: 0.3435\n",
      "Epoch 7/80\n",
      "40000/40000 [==============================] - 2s 44us/step - loss: 2.0102 - acc: 0.2549 - val_loss: 1.9035 - val_acc: 0.3525\n",
      "Epoch 8/80\n",
      "40000/40000 [==============================] - 2s 44us/step - loss: 1.9921 - acc: 0.2604 - val_loss: 1.8713 - val_acc: 0.3630\n",
      "Epoch 9/80\n",
      "40000/40000 [==============================] - 2s 43us/step - loss: 1.9804 - acc: 0.2711 - val_loss: 1.8628 - val_acc: 0.3653\n",
      "Epoch 10/80\n",
      "40000/40000 [==============================] - 2s 44us/step - loss: 1.9686 - acc: 0.2742 - val_loss: 1.8657 - val_acc: 0.3644\n",
      "Epoch 11/80\n",
      "40000/40000 [==============================] - 2s 45us/step - loss: 1.9622 - acc: 0.2787 - val_loss: 1.8539 - val_acc: 0.3708\n",
      "Epoch 12/80\n",
      "40000/40000 [==============================] - 2s 47us/step - loss: 1.9428 - acc: 0.2851 - val_loss: 1.8297 - val_acc: 0.3813\n",
      "Epoch 13/80\n",
      "40000/40000 [==============================] - 2s 45us/step - loss: 1.9319 - acc: 0.2913 - val_loss: 1.8118 - val_acc: 0.3823\n",
      "Epoch 14/80\n",
      "40000/40000 [==============================] - 2s 44us/step - loss: 1.9227 - acc: 0.2964 - val_loss: 1.8087 - val_acc: 0.3805\n",
      "Epoch 15/80\n",
      "40000/40000 [==============================] - 2s 44us/step - loss: 1.9187 - acc: 0.2970 - val_loss: 1.8041 - val_acc: 0.3925\n",
      "Epoch 16/80\n",
      "40000/40000 [==============================] - 2s 45us/step - loss: 1.9149 - acc: 0.3019 - val_loss: 1.8020 - val_acc: 0.3797\n",
      "Epoch 17/80\n",
      "40000/40000 [==============================] - 2s 45us/step - loss: 1.9038 - acc: 0.3029 - val_loss: 1.7859 - val_acc: 0.3868\n",
      "Epoch 18/80\n",
      "40000/40000 [==============================] - 2s 45us/step - loss: 1.8982 - acc: 0.3051 - val_loss: 1.7789 - val_acc: 0.3870\n",
      "Epoch 19/80\n",
      "40000/40000 [==============================] - 2s 46us/step - loss: 1.8903 - acc: 0.3092 - val_loss: 1.7780 - val_acc: 0.3926\n",
      "Epoch 20/80\n",
      "40000/40000 [==============================] - 2s 47us/step - loss: 1.8834 - acc: 0.3095 - val_loss: 1.7753 - val_acc: 0.3952\n",
      "Epoch 21/80\n",
      "40000/40000 [==============================] - 2s 45us/step - loss: 1.8789 - acc: 0.3123 - val_loss: 1.7637 - val_acc: 0.3951\n",
      "Epoch 22/80\n",
      "40000/40000 [==============================] - 2s 47us/step - loss: 1.8740 - acc: 0.3125 - val_loss: 1.7551 - val_acc: 0.3999\n",
      "Epoch 23/80\n",
      "40000/40000 [==============================] - 2s 47us/step - loss: 1.8676 - acc: 0.3175 - val_loss: 1.7652 - val_acc: 0.3971\n",
      "Epoch 24/80\n",
      "40000/40000 [==============================] - 2s 44us/step - loss: 1.8579 - acc: 0.3206 - val_loss: 1.7477 - val_acc: 0.3929\n",
      "Epoch 25/80\n",
      "40000/40000 [==============================] - 2s 49us/step - loss: 1.8613 - acc: 0.3188 - val_loss: 1.7354 - val_acc: 0.3923\n",
      "Epoch 26/80\n",
      "40000/40000 [==============================] - 2s 47us/step - loss: 1.8519 - acc: 0.3205 - val_loss: 1.7539 - val_acc: 0.4001\n",
      "Epoch 27/80\n",
      "40000/40000 [==============================] - 2s 49us/step - loss: 1.8506 - acc: 0.3260 - val_loss: 1.7369 - val_acc: 0.4055\n",
      "Epoch 28/80\n",
      "40000/40000 [==============================] - 2s 49us/step - loss: 1.8384 - acc: 0.3278 - val_loss: 1.7363 - val_acc: 0.4080\n",
      "Epoch 29/80\n",
      "40000/40000 [==============================] - 2s 47us/step - loss: 1.8413 - acc: 0.3295 - val_loss: 1.7246 - val_acc: 0.4057\n",
      "Epoch 30/80\n",
      "40000/40000 [==============================] - 2s 48us/step - loss: 1.8359 - acc: 0.3327 - val_loss: 1.7183 - val_acc: 0.3999\n",
      "Epoch 31/80\n",
      "40000/40000 [==============================] - 2s 48us/step - loss: 1.8325 - acc: 0.3359 - val_loss: 1.7207 - val_acc: 0.3974\n",
      "Epoch 32/80\n",
      "40000/40000 [==============================] - 2s 47us/step - loss: 1.8315 - acc: 0.3317 - val_loss: 1.7234 - val_acc: 0.4031\n",
      "Epoch 33/80\n",
      "40000/40000 [==============================] - 2s 47us/step - loss: 1.8270 - acc: 0.3342 - val_loss: 1.7134 - val_acc: 0.4175\n",
      "Epoch 34/80\n",
      "40000/40000 [==============================] - 2s 51us/step - loss: 1.8242 - acc: 0.3346 - val_loss: 1.7299 - val_acc: 0.4116\n",
      "Epoch 35/80\n",
      "40000/40000 [==============================] - 2s 48us/step - loss: 1.8202 - acc: 0.3361 - val_loss: 1.7031 - val_acc: 0.4125\n",
      "Epoch 36/80\n",
      "40000/40000 [==============================] - 2s 46us/step - loss: 1.8204 - acc: 0.3364 - val_loss: 1.7100 - val_acc: 0.4034\n",
      "Epoch 37/80\n",
      "40000/40000 [==============================] - 2s 47us/step - loss: 1.8146 - acc: 0.3387 - val_loss: 1.7193 - val_acc: 0.3939\n",
      "Epoch 38/80\n",
      "40000/40000 [==============================] - 2s 46us/step - loss: 1.8095 - acc: 0.3413 - val_loss: 1.6939 - val_acc: 0.4186\n",
      "Epoch 39/80\n",
      "40000/40000 [==============================] - 2s 45us/step - loss: 1.8059 - acc: 0.3397 - val_loss: 1.7015 - val_acc: 0.4121\n",
      "Epoch 40/80\n",
      "40000/40000 [==============================] - 2s 46us/step - loss: 1.8036 - acc: 0.3467 - val_loss: 1.6922 - val_acc: 0.4153\n",
      "Epoch 41/80\n",
      "40000/40000 [==============================] - 2s 45us/step - loss: 1.8025 - acc: 0.3469 - val_loss: 1.6809 - val_acc: 0.4222\n",
      "Epoch 42/80\n",
      "40000/40000 [==============================] - 2s 45us/step - loss: 1.7977 - acc: 0.3479 - val_loss: 1.6861 - val_acc: 0.4159\n",
      "Epoch 43/80\n",
      "40000/40000 [==============================] - 2s 45us/step - loss: 1.7992 - acc: 0.3447 - val_loss: 1.7013 - val_acc: 0.4078\n",
      "Epoch 44/80\n",
      "40000/40000 [==============================] - 2s 45us/step - loss: 1.7943 - acc: 0.3503 - val_loss: 1.6888 - val_acc: 0.4167\n",
      "Epoch 45/80\n",
      "40000/40000 [==============================] - 2s 43us/step - loss: 1.7917 - acc: 0.3485 - val_loss: 1.6857 - val_acc: 0.4264\n",
      "Epoch 46/80\n",
      "40000/40000 [==============================] - 2s 43us/step - loss: 1.7872 - acc: 0.3516 - val_loss: 1.6765 - val_acc: 0.4239\n",
      "Epoch 47/80\n",
      "40000/40000 [==============================] - 2s 42us/step - loss: 1.7853 - acc: 0.3542 - val_loss: 1.6640 - val_acc: 0.4221\n",
      "Epoch 48/80\n",
      "40000/40000 [==============================] - 2s 42us/step - loss: 1.7830 - acc: 0.3538 - val_loss: 1.6691 - val_acc: 0.4229\n",
      "Epoch 49/80\n",
      "40000/40000 [==============================] - 2s 42us/step - loss: 1.7845 - acc: 0.3513 - val_loss: 1.6766 - val_acc: 0.4172\n",
      "Epoch 50/80\n",
      "40000/40000 [==============================] - 2s 42us/step - loss: 1.7814 - acc: 0.3504 - val_loss: 1.6821 - val_acc: 0.4205\n",
      "Epoch 51/80\n",
      "40000/40000 [==============================] - 2s 42us/step - loss: 1.7731 - acc: 0.3550 - val_loss: 1.6710 - val_acc: 0.4200\n",
      "Epoch 52/80\n",
      "40000/40000 [==============================] - 2s 43us/step - loss: 1.7798 - acc: 0.3545 - val_loss: 1.6647 - val_acc: 0.4166\n",
      "Epoch 53/80\n",
      "40000/40000 [==============================] - 2s 42us/step - loss: 1.7702 - acc: 0.3555 - val_loss: 1.6476 - val_acc: 0.4280\n",
      "Epoch 54/80\n",
      "40000/40000 [==============================] - 2s 41us/step - loss: 1.7673 - acc: 0.3592 - val_loss: 1.6521 - val_acc: 0.4295\n",
      "Epoch 55/80\n",
      "40000/40000 [==============================] - 2s 42us/step - loss: 1.7692 - acc: 0.3553 - val_loss: 1.6613 - val_acc: 0.4279\n",
      "Epoch 56/80\n",
      "40000/40000 [==============================] - 2s 42us/step - loss: 1.7657 - acc: 0.3641 - val_loss: 1.6513 - val_acc: 0.4269\n",
      "Epoch 57/80\n",
      "40000/40000 [==============================] - 2s 43us/step - loss: 1.7646 - acc: 0.3598 - val_loss: 1.6592 - val_acc: 0.4233\n",
      "Epoch 58/80\n",
      "40000/40000 [==============================] - 2s 42us/step - loss: 1.7627 - acc: 0.3629 - val_loss: 1.6651 - val_acc: 0.4193\n",
      "Epoch 59/80\n",
      "40000/40000 [==============================] - 2s 42us/step - loss: 1.7594 - acc: 0.3651 - val_loss: 1.6439 - val_acc: 0.4235\n",
      "Epoch 60/80\n"
     ]
    },
    {
     "name": "stdout",
     "output_type": "stream",
     "text": [
      "40000/40000 [==============================] - 2s 41us/step - loss: 1.7594 - acc: 0.3642 - val_loss: 1.6536 - val_acc: 0.4240\n",
      "Epoch 61/80\n",
      "40000/40000 [==============================] - 2s 41us/step - loss: 1.7523 - acc: 0.3676 - val_loss: 1.6578 - val_acc: 0.4261\n",
      "Epoch 62/80\n",
      "40000/40000 [==============================] - 2s 41us/step - loss: 1.7556 - acc: 0.3620 - val_loss: 1.6527 - val_acc: 0.4234\n",
      "Epoch 63/80\n",
      "40000/40000 [==============================] - 2s 41us/step - loss: 1.7523 - acc: 0.3649 - val_loss: 1.6356 - val_acc: 0.4313\n",
      "Epoch 64/80\n",
      "40000/40000 [==============================] - 2s 41us/step - loss: 1.7503 - acc: 0.3623 - val_loss: 1.6326 - val_acc: 0.4312\n",
      "Epoch 65/80\n",
      "40000/40000 [==============================] - 2s 41us/step - loss: 1.7512 - acc: 0.3659 - val_loss: 1.6543 - val_acc: 0.4186\n",
      "Epoch 66/80\n",
      "40000/40000 [==============================] - 2s 41us/step - loss: 1.7493 - acc: 0.3670 - val_loss: 1.6435 - val_acc: 0.4279\n",
      "Epoch 67/80\n",
      "40000/40000 [==============================] - 2s 42us/step - loss: 1.7430 - acc: 0.3701 - val_loss: 1.6442 - val_acc: 0.4236\n",
      "Epoch 68/80\n",
      "40000/40000 [==============================] - 2s 41us/step - loss: 1.7472 - acc: 0.3671 - val_loss: 1.6423 - val_acc: 0.4222\n",
      "Epoch 69/80\n",
      "40000/40000 [==============================] - 2s 41us/step - loss: 1.7446 - acc: 0.3689 - val_loss: 1.6236 - val_acc: 0.4353\n",
      "Epoch 70/80\n",
      "40000/40000 [==============================] - 2s 41us/step - loss: 1.7381 - acc: 0.3700 - val_loss: 1.6344 - val_acc: 0.4362\n",
      "Epoch 71/80\n",
      "40000/40000 [==============================] - 2s 41us/step - loss: 1.7330 - acc: 0.3720 - val_loss: 1.6254 - val_acc: 0.4365\n",
      "Epoch 72/80\n",
      "40000/40000 [==============================] - 2s 42us/step - loss: 1.7362 - acc: 0.3701 - val_loss: 1.6342 - val_acc: 0.4358\n",
      "Epoch 73/80\n",
      "40000/40000 [==============================] - 2s 41us/step - loss: 1.7389 - acc: 0.3724 - val_loss: 1.6232 - val_acc: 0.4305\n",
      "Epoch 74/80\n",
      "40000/40000 [==============================] - 2s 41us/step - loss: 1.7334 - acc: 0.3732 - val_loss: 1.6340 - val_acc: 0.4265\n",
      "Epoch 75/80\n",
      "40000/40000 [==============================] - 2s 40us/step - loss: 1.7351 - acc: 0.3723 - val_loss: 1.6439 - val_acc: 0.4310\n",
      "Epoch 76/80\n",
      "40000/40000 [==============================] - 2s 41us/step - loss: 1.7304 - acc: 0.3743 - val_loss: 1.6169 - val_acc: 0.4414\n",
      "Epoch 77/80\n",
      "40000/40000 [==============================] - 2s 41us/step - loss: 1.7360 - acc: 0.3731 - val_loss: 1.6198 - val_acc: 0.4395\n",
      "Epoch 78/80\n",
      "40000/40000 [==============================] - 2s 40us/step - loss: 1.7300 - acc: 0.3759 - val_loss: 1.6247 - val_acc: 0.4335\n",
      "Epoch 79/80\n",
      "40000/40000 [==============================] - 2s 41us/step - loss: 1.7254 - acc: 0.3762 - val_loss: 1.6193 - val_acc: 0.4377\n",
      "Epoch 80/80\n",
      "40000/40000 [==============================] - 2s 40us/step - loss: 1.7253 - acc: 0.3729 - val_loss: 1.6245 - val_acc: 0.4378\n"
     ]
    }
   ],
   "source": [
    "BATCH_SIZE = 64\n",
    "EPOCHS = 80\n",
    "history = model.fit(X_train, Y_train, \n",
    "                    epochs = EPOCHS,\n",
    "                    batch_size = BATCH_SIZE,\n",
    "                    validation_data = (X_val, Y_val))"
   ]
  },
  {
   "cell_type": "markdown",
   "metadata": {},
   "source": [
    "## Learning Curves"
   ]
  },
  {
   "cell_type": "code",
   "execution_count": 10,
   "metadata": {},
   "outputs": [
    {
     "data": {
      "image/png": "[encoded data removed]",
      "text/plain": [
       "<Figure size 432x288 with 2 Axes>"
      ]
     },
     "metadata": {},
     "output_type": "display_data"
    }
   ],
   "source": [
    "fig, ax = plt.subplots(2,1)\n",
    "ax[0].plot(history.history['loss'], color='b', label=\"Training loss\")\n",
    "ax[0].plot(history.history['val_loss'], color='r', label=\"validation loss\",axes =ax[0])\n",
    "legend = ax[0].legend(loc='best', shadow=True)\n",
    "\n",
    "ax[1].plot(history.history['acc'], color='b', label=\"Training accuracy\")\n",
    "ax[1].plot(history.history['val_acc'], color='r',label=\"Validation accuracy\")\n",
    "legend = ax[1].legend(loc='best', shadow=True)\n",
    "plt.show()"
   ]
  },
  {
   "cell_type": "markdown",
   "metadata": {},
   "source": [
    "## Predict"
   ]
  },
  {
   "cell_type": "code",
   "execution_count": 11,
   "metadata": {},
   "outputs": [],
   "source": [
    "predictions = model.predict(X_test)\n",
    "predictions = np.argmax(predictions, axis=1)"
   ]
  },
  {
   "cell_type": "markdown",
   "metadata": {},
   "source": [
    "## Metrics"
   ]
  },
  {
   "cell_type": "code",
   "execution_count": 12,
   "metadata": {},
   "outputs": [
    {
     "name": "stdout",
     "output_type": "stream",
     "text": [
      "Accuracy: 0.4346\n",
      "Recall: [ 0.426  0.493  0.012  0.246  0.471  0.369  0.638  0.511  0.587  0.593]\n",
      "Precision: [ 0.50533808  0.61548065  0.18181818  0.3003663   0.33099086  0.3667992\n",
      "  0.39924906  0.50344828  0.51763668  0.45791506]\n",
      "F1: [ 0.46228974  0.54747363  0.02251407  0.27047828  0.38877425  0.36789631\n",
      "  0.49114704  0.50719603  0.55014058  0.5167756 ]\n"
     ]
    }
   ],
   "source": [
    "Y_true = np.argmax(Y_test, axis=1)\n",
    "print(\"Accuracy: {}\".format(accuracy_score(Y_true, predictions)))\n",
    "print(\"Recall: {}\".format(recall_score(Y_true, predictions, average=None)))\n",
    "print(\"Precision: {}\".format(precision_score(Y_true, predictions, average=None)))\n",
    "print(\"F1: {}\".format(f1_score(Y_true, predictions, average=None)))"
   ]
  }
 ],
 "metadata": {
  "kernelspec": {
   "display_name": "Python 3",
   "language": "python",
   "name": "python3"
  },
  "language_info": {
   "codemirror_mode": {
    "name": "ipython",
    "version": 3
   },
   "file_extension": ".py",
   "mimetype": "text/x-python",
   "name": "python",
   "nbconvert_exporter": "python",
   "pygments_lexer": "ipython3",
   "version": "3.5.2"
  }
 },
 "nbformat": 4,
 "nbformat_minor": 2
}
