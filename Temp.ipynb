{
 "cells": [
  {
   "cell_type": "markdown",
   "metadata": {},
   "source": [
    "## Preprocessing\n",
    "untar cifar-10 dataset:: tar -zxvf backup.tar.gz"
   ]
  },
  {
   "cell_type": "code",
   "execution_count": 49,
   "metadata": {},
   "outputs": [],
   "source": [
    "import numpy as np\n",
    "import matplotlib.pyplot as plt\n",
    "\n",
    "import keras\n",
    "from keras.datasets import cifar10\n",
    "from sklearn.model_selection import train_test_split\n",
    "from keras.utils.np_utils import to_categorical # convert to one-hot-encoding\n",
    "from keras.models import Sequential, Model\n",
    "from keras.layers import Dense, Dropout, Flatten, Conv2D, MaxPool2D, GlobalAveragePooling2D, Input\n",
    "from keras.layers import Conv2D, MaxPooling2D\n",
    "from keras.optimizers import RMSprop, SGD\n",
    "from keras.callbacks import ReduceLROnPlateau, ModelCheckpoint\n",
    "from keras.preprocessing.image import ImageDataGenerator"
   ]
  },
  {
   "cell_type": "code",
   "execution_count": 2,
   "metadata": {},
   "outputs": [],
   "source": [
    "cifar10_PATH = \"cifar10/cifar-10-batches-py/\"\n",
    "mnist_PATH = \"minst/\""
   ]
  },
  {
   "cell_type": "code",
   "execution_count": 57,
   "metadata": {},
   "outputs": [
    {
     "name": "stdout",
     "output_type": "stream",
     "text": [
      "(50000, 3, 32, 32)\n",
      "(50000,)\n"
     ]
    }
   ],
   "source": [
    "def unpickle(file):\n",
    "    import pickle\n",
    "    with open(file, 'rb') as fo:\n",
    "        dict = pickle.load(fo, encoding='bytes')\n",
    "    return dict\n",
    "images = []\n",
    "labels = []\n",
    "for i in range(1,6):\n",
    "    d = unpickle(cifar10_PATH+\"data_batch_\"+str(i))\n",
    "    labels.append(d[b'labels'])\n",
    "    data = d[b'data']\n",
    "    data = data.reshape((-1, 3, 32, 32))\n",
    "    #.transpose([1, 2, 0])\n",
    "    images.append(data)\n",
    "X_train = images[0]\n",
    "y_train = labels[0]\n",
    "for i in range(1,5):\n",
    "    X_train = np.concatenate((X_train, images[i]))\n",
    "    y_train = np.concatenate((y_train, labels[i]))\n",
    "print(X_train.shape)\n",
    "print(y_train.shape)\n",
    "X_train = X_train / 255.0"
   ]
  },
  {
   "cell_type": "code",
   "execution_count": 59,
   "metadata": {},
   "outputs": [
    {
     "name": "stdout",
     "output_type": "stream",
     "text": [
      "(32, 32, 3)\n"
     ]
    }
   ],
   "source": [
    "img1 = X_train[5]\n",
    "img1 = img1.reshape((3, 32, 32)).transpose([1, 2, 0])\n",
    "print(img1.shape)\n",
    "#plt.imshow(img1)"
   ]
  },
  {
   "cell_type": "code",
   "execution_count": 58,
   "metadata": {},
   "outputs": [
    {
     "data": {
      "text/plain": [
       "<matplotlib.image.AxesImage at 0x7fb95d0cad30>"
      ]
     },
     "execution_count": 58,
     "metadata": {},
     "output_type": "execute_result"
    },
    {
     "data": {
      "image/png": "[encoded data removed]",
      "text/plain": [
       "<Figure size 432x288 with 4 Axes>"
      ]
     },
     "metadata": {},
     "output_type": "display_data"
    }
   ],
   "source": [
    "# Some examples\n",
    "f, axarr = plt.subplots(2,2)\n",
    "axarr[0,0].imshow(X_train[0].transpose([1, 2, 0]))\n",
    "axarr[0,1].imshow(X_train[1].transpose([1, 2, 0]))\n",
    "axarr[1,0].imshow(X_train[2].transpose([1, 2, 0]))\n",
    "axarr[1,1].imshow(X_train[3].transpose([1, 2, 0]))"
   ]
  },
  {
   "cell_type": "code",
   "execution_count": 42,
   "metadata": {},
   "outputs": [],
   "source": [
    "def load_data():\n",
    "    (x_train, y_train), (x_test, y_test) = cifar10.load_data()\n",
    "    X_train = x_train.astype('float32')\n",
    "    X_test = x_test.astype('float32')\n",
    "    return X_train, y_train, X_test, y_test\n",
    "\n",
    "def labelencoding(y_train, y_val, y_test, nb_classes):\n",
    "    Y_val = to_categorical(y_val, num_classes = nb_classes)\n",
    "    Y_test = to_categorical(y_test, num_classes = nb_classes)\n",
    "    Y_train = to_categorical(y_train.reshape(-1, 1), num_classes = nb_classes)\n",
    "    return Y_train, Y_val, Y_test\n",
    "\n",
    "def split_dataset(X_train, Y_train):\n",
    "\n",
    "    # Set the random seed\n",
    "    random_seed = 2\n",
    "\n",
    "    X_train, X_val, Y_train, Y_val = train_test_split(X_train, Y_train, test_size = 0.2, random_state=random_seed)\n",
    "    \n",
    "    return X_train, X_val, Y_train, Y_val"
   ]
  },
  {
   "cell_type": "code",
   "execution_count": 52,
   "metadata": {},
   "outputs": [],
   "source": [
    "CLASSES = 10\n",
    "X_train, Y_train, X_test, Y_test = load_data()\n",
    "X_train, X_val, Y_train, Y_val = split_dataset(X_train, Y_train)\n",
    "Y_train, Y_val, Y_test = labelencoding(Y_train, Y_val, Y_test, CLASSES)"
   ]
  },
  {
   "cell_type": "code",
   "execution_count": 53,
   "metadata": {},
   "outputs": [
    {
     "name": "stdout",
     "output_type": "stream",
     "text": [
      "(40000, 32, 32, 3)\n",
      "(40000, 10)\n",
      "(10000, 32, 32, 3)\n",
      "(10000, 10)\n",
      "(10000, 32, 32, 3)\n",
      "(10000, 10)\n"
     ]
    }
   ],
   "source": [
    "print(X_train.shape)\n",
    "print(Y_train.shape)\n",
    "print(X_test.shape)\n",
    "print(Y_test.shape)\n",
    "print(X_val.shape)\n",
    "print(Y_val.shape)"
   ]
  },
  {
   "cell_type": "code",
   "execution_count": 45,
   "metadata": {},
   "outputs": [],
   "source": [
    "learning_rate_reduction = ReduceLROnPlateau(monitor='val_acc', \n",
    "                                            patience=3, \n",
    "                                            verbose=1, \n",
    "                                            factor=0.5, \n",
    "                                            min_lr=0.00001)"
   ]
  },
  {
   "cell_type": "code",
   "execution_count": 137,
   "metadata": {},
   "outputs": [],
   "source": [
    "model = Sequential()\n",
    "# input: 100x100 images with 3 channels -> (100, 100, 3) tensors.\n",
    "# this applies 32 convolution filters of size 3x3 each.\n",
    "model.add(Conv2D(32, (3, 3), activation='relu', input_shape=(32, 32, 3)))\n",
    "model.add(Conv2D(32, (3, 3), activation='relu'))\n",
    "model.add(MaxPooling2D(pool_size=(2, 2)))\n",
    "model.add(Dropout(0.25))\n",
    "\n",
    "model.add(Conv2D(64, (3, 3), activation='relu'))\n",
    "model.add(Conv2D(64, (3, 3), activation='relu'))\n",
    "model.add(MaxPooling2D(pool_size=(2, 2)))\n",
    "model.add(Dropout(0.25))\n",
    "\n",
    "model.add(Flatten())\n",
    "model.add(Dense(256, activation='relu'))\n",
    "model.add(Dropout(0.5))\n",
    "model.add(Dense(10, activation='softmax'))\n",
    "sgd = RMSprop(lr=0.001, rho=0.9, epsilon=1e-08, decay=0.0)\n",
    "model.compile(loss='categorical_crossentropy', optimizer=sgd, metrics=['accuracy'])"
   ]
  },
  {
   "cell_type": "code",
   "execution_count": 57,
   "metadata": {},
   "outputs": [
    {
     "name": "stdout",
     "output_type": "stream",
     "text": [
      "_________________________________________________________________\n",
      "Layer (type)                 Output Shape              Param #   \n",
      "=================================================================\n",
      "input_5 (InputLayer)         (None, 32, 32, 3)         0         \n",
      "_________________________________________________________________\n",
      "flatten_4 (Flatten)          (None, 3072)              0         \n",
      "_________________________________________________________________\n",
      "dense_25 (Dense)             (None, 64)                196672    \n",
      "_________________________________________________________________\n",
      "dropout_17 (Dropout)         (None, 64)                0         \n",
      "_________________________________________________________________\n",
      "dense_26 (Dense)             (None, 64)                4160      \n",
      "_________________________________________________________________\n",
      "dropout_18 (Dropout)         (None, 64)                0         \n",
      "_________________________________________________________________\n",
      "dense_27 (Dense)             (None, 10)                650       \n",
      "=================================================================\n",
      "Total params: 201,482\n",
      "Trainable params: 201,482\n",
      "Non-trainable params: 0\n",
      "_________________________________________________________________\n"
     ]
    }
   ],
   "source": [
    "#model = Sequential()\n",
    "# Dense(64) is a fully-connected layer with 64 hidden units.\n",
    "# in the first layer, you must specify the expected input data shape:\n",
    "# here, 20-dimensional vectors.\n",
    "#model.add(Conv2D(3, (1, 1), activation='linear', input_shape=(32,32,3)))\n",
    "#model.add(Flatten())\n",
    "xx = Input(shape=(32,32,3))\n",
    "x = Flatten()(xx)\n",
    "x = Dense(64, activation='relu')(x)\n",
    "x = Dropout(0.5)(x)\n",
    "x = Dense(64, activation='relu')(x)\n",
    "x = Dropout(0.5)(x)\n",
    "x = Dense(10, activation='softmax')(x)\n",
    "model = Model(xx,x)\n",
    "\n",
    "#model.add(Dense(64, activation='relu'))\n",
    "#model.add(Dropout(0.5))\n",
    "#model.add(Dense(64, activation='relu'))\n",
    "#model.add(Dropout(0.5))\n",
    "#model.add(Dense(10, activation='softmax'))\n",
    "\n",
    "\n",
    "#sgd = RMSprop(lr=0.001, rho=0.9, epsilon=1e-08, decay=0.0)\n",
    "model.compile(loss='categorical_crossentropy', optimizer='sgd', metrics=['accuracy'])\n",
    "model.summary()"
   ]
  },
  {
   "cell_type": "code",
   "execution_count": 58,
   "metadata": {},
   "outputs": [
    {
     "name": "stdout",
     "output_type": "stream",
     "text": [
      "Epoch 1/20\n",
      "625/625 [==============================] - 2s 4ms/step - loss: 2.2597 - acc: 0.1445 - val_loss: 2.1677 - val_acc: 0.2208\n",
      "Epoch 2/20\n",
      "625/625 [==============================] - 2s 3ms/step - loss: 2.1699 - acc: 0.1827 - val_loss: 2.0582 - val_acc: 0.2698\n",
      "Epoch 3/20\n",
      "625/625 [==============================] - 2s 3ms/step - loss: 2.1161 - acc: 0.2063 - val_loss: 2.0005 - val_acc: 0.2924\n",
      "Epoch 4/20\n",
      "625/625 [==============================] - 2s 3ms/step - loss: 2.0797 - acc: 0.2203 - val_loss: 1.9562 - val_acc: 0.3176\n",
      "Epoch 5/20\n",
      "625/625 [==============================] - 2s 3ms/step - loss: 2.0490 - acc: 0.2332 - val_loss: 1.9463 - val_acc: 0.3297\n",
      "Epoch 6/20\n",
      "625/625 [==============================] - 2s 3ms/step - loss: 2.0295 - acc: 0.2456 - val_loss: 1.9413 - val_acc: 0.3111\n",
      "Epoch 7/20\n",
      "625/625 [==============================] - 2s 3ms/step - loss: 2.0128 - acc: 0.2535 - val_loss: 1.8942 - val_acc: 0.3451\n",
      "Epoch 8/20\n",
      "625/625 [==============================] - 2s 3ms/step - loss: 1.9941 - acc: 0.2610 - val_loss: 1.8782 - val_acc: 0.3551\n",
      "Epoch 9/20\n",
      "625/625 [==============================] - 2s 3ms/step - loss: 1.9828 - acc: 0.2642 - val_loss: 1.8734 - val_acc: 0.3455\n",
      "Epoch 10/20\n",
      "625/625 [==============================] - 2s 3ms/step - loss: 1.9747 - acc: 0.2690 - val_loss: 1.8643 - val_acc: 0.3591\n",
      "Epoch 11/20\n",
      "625/625 [==============================] - 2s 3ms/step - loss: 1.9602 - acc: 0.2742 - val_loss: 1.8339 - val_acc: 0.3579\n",
      "Epoch 12/20\n",
      "625/625 [==============================] - 2s 3ms/step - loss: 1.9537 - acc: 0.2772 - val_loss: 1.8336 - val_acc: 0.3653\n",
      "Epoch 13/20\n",
      "625/625 [==============================] - 2s 3ms/step - loss: 1.9375 - acc: 0.2872 - val_loss: 1.8242 - val_acc: 0.3665\n",
      "Epoch 14/20\n",
      "625/625 [==============================] - 2s 3ms/step - loss: 1.9293 - acc: 0.2889 - val_loss: 1.8308 - val_acc: 0.3628\n",
      "Epoch 15/20\n",
      "625/625 [==============================] - 2s 3ms/step - loss: 1.9181 - acc: 0.2945 - val_loss: 1.7939 - val_acc: 0.3871\n",
      "Epoch 16/20\n",
      "625/625 [==============================] - 2s 3ms/step - loss: 1.9103 - acc: 0.2967 - val_loss: 1.7931 - val_acc: 0.3764\n",
      "Epoch 17/20\n",
      "625/625 [==============================] - 2s 3ms/step - loss: 1.9023 - acc: 0.3012 - val_loss: 1.7772 - val_acc: 0.3897\n",
      "Epoch 18/20\n",
      "625/625 [==============================] - 2s 3ms/step - loss: 1.9027 - acc: 0.3035 - val_loss: 1.7833 - val_acc: 0.3877\n",
      "Epoch 19/20\n",
      "625/625 [==============================] - 2s 3ms/step - loss: 1.8985 - acc: 0.3046 - val_loss: 1.7982 - val_acc: 0.3864\n",
      "Epoch 20/20\n",
      "625/625 [==============================] - 2s 3ms/step - loss: 1.8880 - acc: 0.3097 - val_loss: 1.7792 - val_acc: 0.3804\n",
      "\n",
      "Epoch 00020: ReduceLROnPlateau reducing learning rate to 0.004999999888241291.\n"
     ]
    }
   ],
   "source": [
    "EPOCHS = 20\n",
    "BATCH_SIZE = 64\n",
    "#X_train = X_train.reshape(-1, 3072)\n",
    "#X_val = X_val.reshape(-1, 3072)\n",
    "#print(X_train.shape)\n",
    "#print(Y_train.shape)\n",
    "#print(X_val.shape)\n",
    "#print(Y_val.shape)\n",
    "\n",
    "#def gen(x, y, batch):\n",
    "    #while True:\n",
    "   #     for i in range(0, x.shape[0], batch):\n",
    "            #print(x.shape)\n",
    "  #          img = x[i:i+batch,:]\n",
    "            #img.reshape(-1, 3072)\n",
    " #           lab = y[i:i+batch,:]\n",
    "            #print(img.shape)\n",
    "            #print(lab.shape)\n",
    "#            yield  img, lab\n",
    "#            yield ({'input': img}, {'output': lab})\n",
    "\n",
    "#history = model.fit_generator(gen(X_train, Y_train, BATCH_SIZE),\n",
    "#                              epochs = EPOCHS,\n",
    "#                              validation_data = gen(X_val, Y_val, BATCH_SIZE),\n",
    "#                              steps_per_epoch = X_train.shape[0] // BATCH_SIZE,\n",
    "#                              validation_steps = X_val.shape[0] // BATCH_SIZE,\n",
    "#                              callbacks=[learning_rate_reduction])\n",
    "\n",
    "datagen_train = ImageDataGenerator(rescale=1./255)\n",
    "datagen_val = ImageDataGenerator(rescale=1./255)\n",
    "\n",
    "#print(X.shape)\n",
    "#print(Y_train.shape)\n",
    "history = model.fit_generator(datagen_train.flow(X_train,Y_train, batch_size=BATCH_SIZE),\n",
    "                              epochs = EPOCHS,\n",
    "                              validation_data = datagen_val.flow(X_val, Y_val, batch_size=BATCH_SIZE),\n",
    "                              steps_per_epoch = X_train.shape[0] // BATCH_SIZE,\n",
    "                              validation_steps = X_val.shape[0] // BATCH_SIZE,\n",
    "                              callbacks=[learning_rate_reduction])"
   ]
  },
  {
   "cell_type": "code",
   "execution_count": 153,
   "metadata": {},
   "outputs": [
    {
     "name": "stdout",
     "output_type": "stream",
     "text": [
      "{'val_acc': [0.65564903846153844, 0.65044070512820518, 0.70042067307692313, 0.68820112179487181, 0.70713141025641024, 0.71043669871794868, 0.73417467948717952, 0.72786458333333337, 0.72506009615384615, 0.71524439102564108], 'loss': [1.0680349918365479, 0.99551615695953366, 0.94335064201354979, 0.89650293908119205, 0.86312672657966616, 0.84418115301132202, 0.82845677556991582, 0.81864263248443603, 0.81906269507408147, 0.81569369397163394], 'lr': [0.001, 0.001, 0.001, 0.001, 0.001, 0.001, 0.001, 0.001, 0.001, 0.001], 'acc': [0.62697499999999995, 0.65090000000000003, 0.67335, 0.68992500000000001, 0.70215000000000005, 0.71160000000000001, 0.71645000000000003, 0.72045000000000003, 0.72647499999999998, 0.72652499999999998], 'val_loss': [0.97116307455759787, 1.014949647661967, 0.86537031179819357, 0.89309967519381106, 0.87049865416991401, 0.85048737930945861, 0.77474267207659209, 0.80361640682587254, 0.83580351983889556, 0.85475356972370398]}\n"
     ]
    }
   ],
   "source": []
  },
  {
   "cell_type": "code",
   "execution_count": 56,
   "metadata": {},
   "outputs": [
    {
     "name": "stdout",
     "output_type": "stream",
     "text": [
      "Accuracy: 0.3778\n",
      "F1: [ 0.42595344  0.50657895  0.10487983  0.1379822   0.3666997   0.35553225\n",
      "  0.4165844   0.38071815  0.44208494  0.46734398]\n"
     ]
    }
   ],
   "source": [
    "from sklearn.metrics import confusion_matrix, accuracy_score, f1_score, precision_score, recall_score\n",
    "\n",
    "Y_pred = model.predict(X_test/255.)\n",
    "Y_pred = np.argmax(Y_pred, axis=1)\n",
    "y = np.argmax(Y_test, axis=1)\n",
    "print(\"Accuracy: {}\".format(accuracy_score(y, Y_pred)))\n",
    "print(\"F1: {}\".format(f1_score(y, Y_pred, average=None)))"
   ]
  },
  {
   "cell_type": "code",
   "execution_count": 172,
   "metadata": {},
   "outputs": [
    {
     "data": {
      "text/plain": [
       "array([3, 8, 1, 0, 6, 6, 9, 6, 3, 9])"
      ]
     },
     "execution_count": 172,
     "metadata": {},
     "output_type": "execute_result"
    }
   ],
   "source": [
    "np.argmax(model.predict(X_test[0:10]/255.), axis=1)"
   ]
  },
  {
   "cell_type": "code",
   "execution_count": 160,
   "metadata": {},
   "outputs": [
    {
     "data": {
      "text/plain": [
       "array([3, 8, 8, 0, 6, 6, 1, 6, 3, 1])"
      ]
     },
     "execution_count": 160,
     "metadata": {},
     "output_type": "execute_result"
    }
   ],
   "source": [
    "y[:10]"
   ]
  },
  {
   "cell_type": "code",
   "execution_count": 161,
   "metadata": {},
   "outputs": [
    {
     "data": {
      "text/plain": [
       "array([2, 1, 1, 9, 2, 7, 8, 0, 5, 7])"
      ]
     },
     "execution_count": 161,
     "metadata": {},
     "output_type": "execute_result"
    }
   ],
   "source": [
    "Y_pred[:10]"
   ]
  },
  {
   "cell_type": "code",
   "execution_count": 162,
   "metadata": {},
   "outputs": [],
   "source": [
    "_ , (_, b) = cifar10.load_data()"
   ]
  },
  {
   "cell_type": "code",
   "execution_count": 163,
   "metadata": {},
   "outputs": [
    {
     "data": {
      "text/plain": [
       "array([[3],\n",
       "       [8],\n",
       "       [8],\n",
       "       [0],\n",
       "       [6],\n",
       "       [6],\n",
       "       [1],\n",
       "       [6],\n",
       "       [3],\n",
       "       [1]])"
      ]
     },
     "execution_count": 163,
     "metadata": {},
     "output_type": "execute_result"
    }
   ],
   "source": [
    "b[:10]"
   ]
  }
 ],
 "metadata": {
  "kernelspec": {
   "display_name": "Python 3",
   "language": "python",
   "name": "python3"
  },
  "language_info": {
   "codemirror_mode": {
    "name": "ipython",
    "version": 3
   },
   "file_extension": ".py",
   "mimetype": "text/x-python",
   "name": "python",
   "nbconvert_exporter": "python",
   "pygments_lexer": "ipython3",
   "version": "3.5.2"
  }
 },
 "nbformat": 4,
 "nbformat_minor": 2
}
